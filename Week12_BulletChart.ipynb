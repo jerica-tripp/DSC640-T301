{
 "cells": [
  {
   "cell_type": "code",
   "execution_count": 129,
   "id": "3fee8246-28cb-4454-a0e0-e42e8008abf2",
   "metadata": {},
   "outputs": [
    {
     "data": {
      "application/vnd.plotly.v1+json": {
       "config": {
        "plotlyServerURL": "https://plot.ly"
       },
       "data": [
        {
         "domain": {
          "x": [
           0.25,
           1
          ],
          "y": [
           0,
           0.01
          ]
         },
         "gauge": {
          "axis": {
           "range": [
            null,
            10
           ]
          },
          "shape": "bullet",
          "steps": [
           {
            "color": "lightgray",
            "range": [
             0,
             2.075
            ]
           },
           {
            "color": "gray",
            "range": [
             2.075,
             2.7666666666666675
            ]
           }
          ],
          "threshold": {
           "line": {
            "color": "red",
            "width": 2
           },
           "thickness": 0.75,
           "value": 3.458333333333334
          }
         },
         "mode": "gauge",
         "title": {
          "text": "Michigan"
         },
         "type": "indicator",
         "value": 7.4
        },
        {
         "domain": {
          "x": [
           0.25,
           1
          ],
          "y": [
           0.019,
           0.028999999999999998
          ]
         },
         "gauge": {
          "axis": {
           "range": [
            null,
            10
           ]
          },
          "shape": "bullet",
          "steps": [
           {
            "color": "lightgray",
            "range": [
             0,
             2.075
            ]
           },
           {
            "color": "gray",
            "range": [
             2.075,
             2.7666666666666675
            ]
           }
          ],
          "threshold": {
           "line": {
            "color": "red",
            "width": 2
           },
           "thickness": 0.75,
           "value": 3.458333333333334
          }
         },
         "mode": "gauge",
         "title": {
          "text": "Ohio"
         },
         "type": "indicator",
         "value": 4.5
        },
        {
         "domain": {
          "x": [
           0.25,
           1
          ],
          "y": [
           0.038,
           0.048
          ]
         },
         "gauge": {
          "axis": {
           "range": [
            null,
            10
           ]
          },
          "shape": "bullet",
          "steps": [
           {
            "color": "lightgray",
            "range": [
             0,
             2.075
            ]
           },
           {
            "color": "gray",
            "range": [
             2.075,
             2.7666666666666675
            ]
           }
          ],
          "threshold": {
           "line": {
            "color": "red",
            "width": 2
           },
           "thickness": 0.75,
           "value": 3.458333333333334
          }
         },
         "mode": "gauge",
         "title": {
          "text": "Illinois"
         },
         "type": "indicator",
         "value": 4
        },
        {
         "domain": {
          "x": [
           0.25,
           1
          ],
          "y": [
           0.056999999999999995,
           0.06699999999999999
          ]
         },
         "gauge": {
          "axis": {
           "range": [
            null,
            10
           ]
          },
          "shape": "bullet",
          "steps": [
           {
            "color": "lightgray",
            "range": [
             0,
             2.075
            ]
           },
           {
            "color": "gray",
            "range": [
             2.075,
             2.7666666666666675
            ]
           }
          ],
          "threshold": {
           "line": {
            "color": "red",
            "width": 2
           },
           "thickness": 0.75,
           "value": 3.458333333333334
          }
         },
         "mode": "gauge",
         "title": {
          "text": "South Dakota"
         },
         "type": "indicator",
         "value": 3.9
        },
        {
         "domain": {
          "x": [
           0.25,
           1
          ],
          "y": [
           0.076,
           0.086
          ]
         },
         "gauge": {
          "axis": {
           "range": [
            null,
            10
           ]
          },
          "shape": "bullet",
          "steps": [
           {
            "color": "lightgray",
            "range": [
             0,
             2.075
            ]
           },
           {
            "color": "gray",
            "range": [
             2.075,
             2.7666666666666675
            ]
           }
          ],
          "threshold": {
           "line": {
            "color": "red",
            "width": 2
           },
           "thickness": 0.75,
           "value": 3.458333333333334
          }
         },
         "mode": "gauge",
         "title": {
          "text": "Missouri"
         },
         "type": "indicator",
         "value": 3.7
        },
        {
         "domain": {
          "x": [
           0.25,
           1
          ],
          "y": [
           0.095,
           0.105
          ]
         },
         "gauge": {
          "axis": {
           "range": [
            null,
            10
           ]
          },
          "shape": "bullet",
          "steps": [
           {
            "color": "lightgray",
            "range": [
             0,
             2.075
            ]
           },
           {
            "color": "gray",
            "range": [
             2.075,
             2.7666666666666675
            ]
           }
          ],
          "threshold": {
           "line": {
            "color": "red",
            "width": 2
           },
           "thickness": 0.75,
           "value": 3.458333333333334
          }
         },
         "mode": "gauge",
         "title": {
          "text": "Minnesota"
         },
         "type": "indicator",
         "value": 3
        },
        {
         "domain": {
          "x": [
           0.25,
           1
          ],
          "y": [
           0.114,
           0.124
          ]
         },
         "gauge": {
          "axis": {
           "range": [
            null,
            10
           ]
          },
          "shape": "bullet",
          "steps": [
           {
            "color": "lightgray",
            "range": [
             0,
             2.075
            ]
           },
           {
            "color": "gray",
            "range": [
             2.075,
             2.7666666666666675
            ]
           }
          ],
          "threshold": {
           "line": {
            "color": "red",
            "width": 2
           },
           "thickness": 0.75,
           "value": 3.458333333333334
          }
         },
         "mode": "gauge",
         "title": {
          "text": "Nebraska"
         },
         "type": "indicator",
         "value": 2.8
        },
        {
         "domain": {
          "x": [
           0.25,
           1
          ],
          "y": [
           0.133,
           0.14300000000000002
          ]
         },
         "gauge": {
          "axis": {
           "range": [
            null,
            10
           ]
          },
          "shape": "bullet",
          "steps": [
           {
            "color": "lightgray",
            "range": [
             0,
             2.075
            ]
           },
           {
            "color": "gray",
            "range": [
             2.075,
             2.7666666666666675
            ]
           }
          ],
          "threshold": {
           "line": {
            "color": "red",
            "width": 2
           },
           "thickness": 0.75,
           "value": 3.458333333333334
          }
         },
         "mode": "gauge",
         "title": {
          "text": "Indiana"
         },
         "type": "indicator",
         "value": 2.7
        },
        {
         "domain": {
          "x": [
           0.25,
           1
          ],
          "y": [
           0.152,
           0.162
          ]
         },
         "gauge": {
          "axis": {
           "range": [
            null,
            10
           ]
          },
          "shape": "bullet",
          "steps": [
           {
            "color": "lightgray",
            "range": [
             0,
             2.075
            ]
           },
           {
            "color": "gray",
            "range": [
             2.075,
             2.7666666666666675
            ]
           }
          ],
          "threshold": {
           "line": {
            "color": "red",
            "width": 2
           },
           "thickness": 0.75,
           "value": 3.458333333333334
          }
         },
         "mode": "gauge",
         "title": {
          "text": "Kansas"
         },
         "type": "indicator",
         "value": 2.7
        },
        {
         "domain": {
          "x": [
           0.25,
           1
          ],
          "y": [
           0.17099999999999999,
           0.181
          ]
         },
         "gauge": {
          "axis": {
           "range": [
            null,
            10
           ]
          },
          "shape": "bullet",
          "steps": [
           {
            "color": "lightgray",
            "range": [
             0,
             2.075
            ]
           },
           {
            "color": "gray",
            "range": [
             2.075,
             2.7666666666666675
            ]
           }
          ],
          "threshold": {
           "line": {
            "color": "red",
            "width": 2
           },
           "thickness": 0.75,
           "value": 3.458333333333334
          }
         },
         "mode": "gauge",
         "title": {
          "text": "Iowa"
         },
         "type": "indicator",
         "value": 2.3
        },
        {
         "domain": {
          "x": [
           0.25,
           1
          ],
          "y": [
           0.18999999999999997,
           0.19999999999999998
          ]
         },
         "gauge": {
          "axis": {
           "range": [
            null,
            10
           ]
          },
          "shape": "bullet",
          "steps": [
           {
            "color": "lightgray",
            "range": [
             0,
             2.075
            ]
           },
           {
            "color": "gray",
            "range": [
             2.075,
             2.7666666666666675
            ]
           }
          ],
          "threshold": {
           "line": {
            "color": "red",
            "width": 2
           },
           "thickness": 0.75,
           "value": 3.458333333333334
          }
         },
         "mode": "gauge",
         "title": {
          "text": "North Dakota"
         },
         "type": "indicator",
         "value": 2.3
        },
        {
         "domain": {
          "x": [
           0.25,
           1
          ],
          "y": [
           0.20899999999999996,
           0.21899999999999997
          ]
         },
         "gauge": {
          "axis": {
           "range": [
            null,
            10
           ]
          },
          "shape": "bullet",
          "steps": [
           {
            "color": "lightgray",
            "range": [
             0,
             2.075
            ]
           },
           {
            "color": "gray",
            "range": [
             2.075,
             2.7666666666666675
            ]
           }
          ],
          "threshold": {
           "line": {
            "color": "red",
            "width": 2
           },
           "thickness": 0.75,
           "value": 3.458333333333334
          }
         },
         "mode": "gauge",
         "title": {
          "text": "Wisconsin"
         },
         "type": "indicator",
         "value": 2.2
        },
        {
         "domain": {
          "x": [
           0.25,
           1
          ],
          "y": [
           0.22799999999999995,
           0.23799999999999996
          ]
         },
         "gauge": {
          "axis": {
           "range": [
            null,
            10
           ]
          },
          "shape": "bullet",
          "steps": [
           {
            "color": "lightgray",
            "range": [
             0,
             1.7
            ]
           },
           {
            "color": "gray",
            "range": [
             1.7,
             2.266666666666667
            ]
           }
          ],
          "threshold": {
           "line": {
            "color": "red",
            "width": 2
           },
           "thickness": 0.75,
           "value": 2.8333333333333335
          }
         },
         "mode": "gauge",
         "title": {
          "text": "Rhode Island"
         },
         "type": "indicator",
         "value": 5.8
        },
        {
         "domain": {
          "x": [
           0.25,
           1
          ],
          "y": [
           0.24699999999999994,
           0.25699999999999995
          ]
         },
         "gauge": {
          "axis": {
           "range": [
            null,
            10
           ]
          },
          "shape": "bullet",
          "steps": [
           {
            "color": "lightgray",
            "range": [
             0,
             1.7
            ]
           },
           {
            "color": "gray",
            "range": [
             1.7,
             2.266666666666667
            ]
           }
          ],
          "threshold": {
           "line": {
            "color": "red",
            "width": 2
           },
           "thickness": 0.75,
           "value": 2.8333333333333335
          }
         },
         "mode": "gauge",
         "title": {
          "text": "Maine"
         },
         "type": "indicator",
         "value": 5.3
        },
        {
         "domain": {
          "x": [
           0.25,
           1
          ],
          "y": [
           0.26599999999999996,
           0.27599999999999997
          ]
         },
         "gauge": {
          "axis": {
           "range": [
            null,
            10
           ]
          },
          "shape": "bullet",
          "steps": [
           {
            "color": "lightgray",
            "range": [
             0,
             1.7
            ]
           },
           {
            "color": "gray",
            "range": [
             1.7,
             2.266666666666667
            ]
           }
          ],
          "threshold": {
           "line": {
            "color": "red",
            "width": 2
           },
           "thickness": 0.75,
           "value": 2.8333333333333335
          }
         },
         "mode": "gauge",
         "title": {
          "text": "New York"
         },
         "type": "indicator",
         "value": 5.3
        },
        {
         "domain": {
          "x": [
           0.25,
           1
          ],
          "y": [
           0.285,
           0.295
          ]
         },
         "gauge": {
          "axis": {
           "range": [
            null,
            10
           ]
          },
          "shape": "bullet",
          "steps": [
           {
            "color": "lightgray",
            "range": [
             0,
             1.7
            ]
           },
           {
            "color": "gray",
            "range": [
             1.7,
             2.266666666666667
            ]
           }
          ],
          "threshold": {
           "line": {
            "color": "red",
            "width": 2
           },
           "thickness": 0.75,
           "value": 2.8333333333333335
          }
         },
         "mode": "gauge",
         "title": {
          "text": "Massachusetts"
         },
         "type": "indicator",
         "value": 3.8
        },
        {
         "domain": {
          "x": [
           0.25,
           1
          ],
          "y": [
           0.304,
           0.314
          ]
         },
         "gauge": {
          "axis": {
           "range": [
            null,
            10
           ]
          },
          "shape": "bullet",
          "steps": [
           {
            "color": "lightgray",
            "range": [
             0,
             1.7
            ]
           },
           {
            "color": "gray",
            "range": [
             1.7,
             2.266666666666667
            ]
           }
          ],
          "threshold": {
           "line": {
            "color": "red",
            "width": 2
           },
           "thickness": 0.75,
           "value": 2.8333333333333335
          }
         },
         "mode": "gauge",
         "title": {
          "text": "New Hampshire"
         },
         "type": "indicator",
         "value": 3.2
        },
        {
         "domain": {
          "x": [
           0.25,
           1
          ],
          "y": [
           0.323,
           0.333
          ]
         },
         "gauge": {
          "axis": {
           "range": [
            null,
            10
           ]
          },
          "shape": "bullet",
          "steps": [
           {
            "color": "lightgray",
            "range": [
             0,
             1.7
            ]
           },
           {
            "color": "gray",
            "range": [
             1.7,
             2.266666666666667
            ]
           }
          ],
          "threshold": {
           "line": {
            "color": "red",
            "width": 2
           },
           "thickness": 0.75,
           "value": 2.8333333333333335
          }
         },
         "mode": "gauge",
         "title": {
          "text": "Connecticut"
         },
         "type": "indicator",
         "value": 2.1
        },
        {
         "domain": {
          "x": [
           0.25,
           1
          ],
          "y": [
           0.342,
           0.35200000000000004
          ]
         },
         "gauge": {
          "axis": {
           "range": [
            null,
            10
           ]
          },
          "shape": "bullet",
          "steps": [
           {
            "color": "lightgray",
            "range": [
             0,
             1.7
            ]
           },
           {
            "color": "gray",
            "range": [
             1.7,
             2.266666666666667
            ]
           }
          ],
          "threshold": {
           "line": {
            "color": "red",
            "width": 2
           },
           "thickness": 0.75,
           "value": 2.8333333333333335
          }
         },
         "mode": "gauge",
         "title": {
          "text": "New Jersey"
         },
         "type": "indicator",
         "value": 2
        },
        {
         "domain": {
          "x": [
           0.25,
           1
          ],
          "y": [
           0.36100000000000004,
           0.37100000000000005
          ]
         },
         "gauge": {
          "axis": {
           "range": [
            null,
            10
           ]
          },
          "shape": "bullet",
          "steps": [
           {
            "color": "lightgray",
            "range": [
             0,
             1.7
            ]
           },
           {
            "color": "gray",
            "range": [
             1.7,
             2.266666666666667
            ]
           }
          ],
          "threshold": {
           "line": {
            "color": "red",
            "width": 2
           },
           "thickness": 0.75,
           "value": 2.8333333333333335
          }
         },
         "mode": "gauge",
         "title": {
          "text": "Pennsylvania"
         },
         "type": "indicator",
         "value": -1
        },
        {
         "domain": {
          "x": [
           0.25,
           1
          ],
          "y": [
           0.38000000000000006,
           0.39000000000000007
          ]
         },
         "gauge": {
          "axis": {
           "range": [
            null,
            10
           ]
          },
          "shape": "bullet",
          "steps": [
           {
            "color": "lightgray",
            "range": [
             0,
             1.7
            ]
           },
           {
            "color": "gray",
            "range": [
             1.7,
             2.266666666666667
            ]
           }
          ],
          "threshold": {
           "line": {
            "color": "red",
            "width": 2
           },
           "thickness": 0.75,
           "value": 2.8333333333333335
          }
         },
         "mode": "gauge",
         "title": {
          "text": "Vermont"
         },
         "type": "indicator",
         "value": -1
        },
        {
         "domain": {
          "x": [
           0.25,
           1
          ],
          "y": [
           0.3990000000000001,
           0.4090000000000001
          ]
         },
         "gauge": {
          "axis": {
           "range": [
            null,
            10
           ]
          },
          "shape": "bullet",
          "steps": [
           {
            "color": "lightgray",
            "range": [
             0,
             2.583529411764705
            ]
           },
           {
            "color": "gray",
            "range": [
             2.583529411764705,
             3.4447058823529404
            ]
           }
          ],
          "threshold": {
           "line": {
            "color": "red",
            "width": 2
           },
           "thickness": 0.75,
           "value": 4.305882352941175
          }
         },
         "mode": "gauge",
         "title": {
          "text": "Louisiana"
         },
         "type": "indicator",
         "value": 7.4
        },
        {
         "domain": {
          "x": [
           0.25,
           1
          ],
          "y": [
           0.4180000000000001,
           0.4280000000000001
          ]
         },
         "gauge": {
          "axis": {
           "range": [
            null,
            10
           ]
          },
          "shape": "bullet",
          "steps": [
           {
            "color": "lightgray",
            "range": [
             0,
             2.583529411764705
            ]
           },
           {
            "color": "gray",
            "range": [
             2.583529411764705,
             3.4447058823529404
            ]
           }
          ],
          "threshold": {
           "line": {
            "color": "red",
            "width": 2
           },
           "thickness": 0.75,
           "value": 4.305882352941175
          }
         },
         "mode": "gauge",
         "title": {
          "text": "District of Columbia"
         },
         "type": "indicator",
         "value": 7.1
        },
        {
         "domain": {
          "x": [
           0.25,
           1
          ],
          "y": [
           0.4370000000000001,
           0.4470000000000001
          ]
         },
         "gauge": {
          "axis": {
           "range": [
            null,
            10
           ]
          },
          "shape": "bullet",
          "steps": [
           {
            "color": "lightgray",
            "range": [
             0,
             2.583529411764705
            ]
           },
           {
            "color": "gray",
            "range": [
             2.583529411764705,
             3.4447058823529404
            ]
           }
          ],
          "threshold": {
           "line": {
            "color": "red",
            "width": 2
           },
           "thickness": 0.75,
           "value": 4.305882352941175
          }
         },
         "mode": "gauge",
         "title": {
          "text": "North Carolina"
         },
         "type": "indicator",
         "value": 5.7
        },
        {
         "domain": {
          "x": [
           0.25,
           1
          ],
          "y": [
           0.4560000000000001,
           0.46600000000000014
          ]
         },
         "gauge": {
          "axis": {
           "range": [
            null,
            10
           ]
          },
          "shape": "bullet",
          "steps": [
           {
            "color": "lightgray",
            "range": [
             0,
             2.583529411764705
            ]
           },
           {
            "color": "gray",
            "range": [
             2.583529411764705,
             3.4447058823529404
            ]
           }
          ],
          "threshold": {
           "line": {
            "color": "red",
            "width": 2
           },
           "thickness": 0.75,
           "value": 4.305882352941175
          }
         },
         "mode": "gauge",
         "title": {
          "text": "Delaware"
         },
         "type": "indicator",
         "value": 5.5
        },
        {
         "domain": {
          "x": [
           0.25,
           1
          ],
          "y": [
           0.47500000000000014,
           0.48500000000000015
          ]
         },
         "gauge": {
          "axis": {
           "range": [
            null,
            10
           ]
          },
          "shape": "bullet",
          "steps": [
           {
            "color": "lightgray",
            "range": [
             0,
             2.583529411764705
            ]
           },
           {
            "color": "gray",
            "range": [
             2.583529411764705,
             3.4447058823529404
            ]
           }
          ],
          "threshold": {
           "line": {
            "color": "red",
            "width": 2
           },
           "thickness": 0.75,
           "value": 4.305882352941175
          }
         },
         "mode": "gauge",
         "title": {
          "text": "Arkansas"
         },
         "type": "indicator",
         "value": 4.6
        },
        {
         "domain": {
          "x": [
           0.25,
           1
          ],
          "y": [
           0.49400000000000016,
           0.5040000000000001
          ]
         },
         "gauge": {
          "axis": {
           "range": [
            null,
            10
           ]
          },
          "shape": "bullet",
          "steps": [
           {
            "color": "lightgray",
            "range": [
             0,
             2.583529411764705
            ]
           },
           {
            "color": "gray",
            "range": [
             2.583529411764705,
             3.4447058823529404
            ]
           }
          ],
          "threshold": {
           "line": {
            "color": "red",
            "width": 2
           },
           "thickness": 0.75,
           "value": 4.305882352941175
          }
         },
         "mode": "gauge",
         "title": {
          "text": "Georgia"
         },
         "type": "indicator",
         "value": 4.6
        },
        {
         "domain": {
          "x": [
           0.25,
           1
          ],
          "y": [
           0.5130000000000001,
           0.5230000000000001
          ]
         },
         "gauge": {
          "axis": {
           "range": [
            null,
            10
           ]
          },
          "shape": "bullet",
          "steps": [
           {
            "color": "lightgray",
            "range": [
             0,
             2.583529411764705
            ]
           },
           {
            "color": "gray",
            "range": [
             2.583529411764705,
             3.4447058823529404
            ]
           }
          ],
          "threshold": {
           "line": {
            "color": "red",
            "width": 2
           },
           "thickness": 0.75,
           "value": 4.305882352941175
          }
         },
         "mode": "gauge",
         "title": {
          "text": "Mississippi"
         },
         "type": "indicator",
         "value": 4.3
        },
        {
         "domain": {
          "x": [
           0.25,
           1
          ],
          "y": [
           0.5320000000000001,
           0.5420000000000001
          ]
         },
         "gauge": {
          "axis": {
           "range": [
            null,
            10
           ]
          },
          "shape": "bullet",
          "steps": [
           {
            "color": "lightgray",
            "range": [
             0,
             2.583529411764705
            ]
           },
           {
            "color": "gray",
            "range": [
             2.583529411764705,
             3.4447058823529404
            ]
           }
          ],
          "threshold": {
           "line": {
            "color": "red",
            "width": 2
           },
           "thickness": 0.75,
           "value": 4.305882352941175
          }
         },
         "mode": "gauge",
         "title": {
          "text": "Texas"
         },
         "type": "indicator",
         "value": 4
        },
        {
         "domain": {
          "x": [
           0.25,
           1
          ],
          "y": [
           0.5510000000000002,
           0.5610000000000002
          ]
         },
         "gauge": {
          "axis": {
           "range": [
            null,
            10
           ]
          },
          "shape": "bullet",
          "steps": [
           {
            "color": "lightgray",
            "range": [
             0,
             2.583529411764705
            ]
           },
           {
            "color": "gray",
            "range": [
             2.583529411764705,
             3.4447058823529404
            ]
           }
          ],
          "threshold": {
           "line": {
            "color": "red",
            "width": 2
           },
           "thickness": 0.75,
           "value": 4.305882352941175
          }
         },
         "mode": "gauge",
         "title": {
          "text": "West Virginia"
         },
         "type": "indicator",
         "value": 4
        },
        {
         "domain": {
          "x": [
           0.25,
           1
          ],
          "y": [
           0.5700000000000002,
           0.5800000000000002
          ]
         },
         "gauge": {
          "axis": {
           "range": [
            null,
            10
           ]
          },
          "shape": "bullet",
          "steps": [
           {
            "color": "lightgray",
            "range": [
             0,
             2.583529411764705
            ]
           },
           {
            "color": "gray",
            "range": [
             2.583529411764705,
             3.4447058823529404
            ]
           }
          ],
          "threshold": {
           "line": {
            "color": "red",
            "width": 2
           },
           "thickness": 0.75,
           "value": 4.305882352941175
          }
         },
         "mode": "gauge",
         "title": {
          "text": "South Carolina"
         },
         "type": "indicator",
         "value": 3.9
        },
        {
         "domain": {
          "x": [
           0.25,
           1
          ],
          "y": [
           0.5890000000000002,
           0.5990000000000002
          ]
         },
         "gauge": {
          "axis": {
           "range": [
            null,
            10
           ]
          },
          "shape": "bullet",
          "steps": [
           {
            "color": "lightgray",
            "range": [
             0,
             2.583529411764705
            ]
           },
           {
            "color": "gray",
            "range": [
             2.583529411764705,
             3.4447058823529404
            ]
           }
          ],
          "threshold": {
           "line": {
            "color": "red",
            "width": 2
           },
           "thickness": 0.75,
           "value": 4.305882352941175
          }
         },
         "mode": "gauge",
         "title": {
          "text": "Florida"
         },
         "type": "indicator",
         "value": 3.8
        },
        {
         "domain": {
          "x": [
           0.25,
           1
          ],
          "y": [
           0.6080000000000002,
           0.6180000000000002
          ]
         },
         "gauge": {
          "axis": {
           "range": [
            null,
            10
           ]
          },
          "shape": "bullet",
          "steps": [
           {
            "color": "lightgray",
            "range": [
             0,
             2.583529411764705
            ]
           },
           {
            "color": "gray",
            "range": [
             2.583529411764705,
             3.4447058823529404
            ]
           }
          ],
          "threshold": {
           "line": {
            "color": "red",
            "width": 2
           },
           "thickness": 0.75,
           "value": 4.305882352941175
          }
         },
         "mode": "gauge",
         "title": {
          "text": "Maryland"
         },
         "type": "indicator",
         "value": 3.8
        },
        {
         "domain": {
          "x": [
           0.25,
           1
          ],
          "y": [
           0.6270000000000002,
           0.6370000000000002
          ]
         },
         "gauge": {
          "axis": {
           "range": [
            null,
            10
           ]
          },
          "shape": "bullet",
          "steps": [
           {
            "color": "lightgray",
            "range": [
             0,
             2.583529411764705
            ]
           },
           {
            "color": "gray",
            "range": [
             2.583529411764705,
             3.4447058823529404
            ]
           }
          ],
          "threshold": {
           "line": {
            "color": "red",
            "width": 2
           },
           "thickness": 0.75,
           "value": 4.305882352941175
          }
         },
         "mode": "gauge",
         "title": {
          "text": "Oklahoma"
         },
         "type": "indicator",
         "value": 3.5
        },
        {
         "domain": {
          "x": [
           0.25,
           1
          ],
          "y": [
           0.6460000000000002,
           0.6560000000000002
          ]
         },
         "gauge": {
          "axis": {
           "range": [
            null,
            10
           ]
          },
          "shape": "bullet",
          "steps": [
           {
            "color": "lightgray",
            "range": [
             0,
             2.583529411764705
            ]
           },
           {
            "color": "gray",
            "range": [
             2.583529411764705,
             3.4447058823529404
            ]
           }
          ],
          "threshold": {
           "line": {
            "color": "red",
            "width": 2
           },
           "thickness": 0.75,
           "value": 4.305882352941175
          }
         },
         "mode": "gauge",
         "title": {
          "text": "Tennessee"
         },
         "type": "indicator",
         "value": 3.1
        },
        {
         "domain": {
          "x": [
           0.25,
           1
          ],
          "y": [
           0.6650000000000003,
           0.6750000000000003
          ]
         },
         "gauge": {
          "axis": {
           "range": [
            null,
            10
           ]
          },
          "shape": "bullet",
          "steps": [
           {
            "color": "lightgray",
            "range": [
             0,
             2.583529411764705
            ]
           },
           {
            "color": "gray",
            "range": [
             2.583529411764705,
             3.4447058823529404
            ]
           }
          ],
          "threshold": {
           "line": {
            "color": "red",
            "width": 2
           },
           "thickness": 0.75,
           "value": 4.305882352941175
          }
         },
         "mode": "gauge",
         "title": {
          "text": "Kentucky"
         },
         "type": "indicator",
         "value": 3
        },
        {
         "domain": {
          "x": [
           0.25,
           1
          ],
          "y": [
           0.6840000000000003,
           0.6940000000000003
          ]
         },
         "gauge": {
          "axis": {
           "range": [
            null,
            10
           ]
          },
          "shape": "bullet",
          "steps": [
           {
            "color": "lightgray",
            "range": [
             0,
             2.583529411764705
            ]
           },
           {
            "color": "gray",
            "range": [
             2.583529411764705,
             3.4447058823529404
            ]
           }
          ],
          "threshold": {
           "line": {
            "color": "red",
            "width": 2
           },
           "thickness": 0.75,
           "value": 4.305882352941175
          }
         },
         "mode": "gauge",
         "title": {
          "text": "Virginia"
         },
         "type": "indicator",
         "value": 2.6
        },
        {
         "domain": {
          "x": [
           0.25,
           1
          ],
          "y": [
           0.7030000000000003,
           0.7130000000000003
          ]
         },
         "gauge": {
          "axis": {
           "range": [
            null,
            10
           ]
          },
          "shape": "bullet",
          "steps": [
           {
            "color": "lightgray",
            "range": [
             0,
             2.583529411764705
            ]
           },
           {
            "color": "gray",
            "range": [
             2.583529411764705,
             3.4447058823529404
            ]
           }
          ],
          "threshold": {
           "line": {
            "color": "red",
            "width": 2
           },
           "thickness": 0.75,
           "value": 4.305882352941175
          }
         },
         "mode": "gauge",
         "title": {
          "text": "Alabama"
         },
         "type": "indicator",
         "value": 2.3
        },
        {
         "domain": {
          "x": [
           0.25,
           1
          ],
          "y": [
           0.7220000000000003,
           0.7320000000000003
          ]
         },
         "gauge": {
          "axis": {
           "range": [
            null,
            10
           ]
          },
          "shape": "bullet",
          "steps": [
           {
            "color": "lightgray",
            "range": [
             0,
             3.1153846153846154
            ]
           },
           {
            "color": "gray",
            "range": [
             3.1153846153846154,
             4.153846153846154
            ]
           }
          ],
          "threshold": {
           "line": {
            "color": "red",
            "width": 2
           },
           "thickness": 0.75,
           "value": 5.1923076923076925
          }
         },
         "mode": "gauge",
         "title": {
          "text": "Arizona"
         },
         "type": "indicator",
         "value": 7.6
        },
        {
         "domain": {
          "x": [
           0.25,
           1
          ],
          "y": [
           0.7410000000000003,
           0.7510000000000003
          ]
         },
         "gauge": {
          "axis": {
           "range": [
            null,
            10
           ]
          },
          "shape": "bullet",
          "steps": [
           {
            "color": "lightgray",
            "range": [
             0,
             3.1153846153846154
            ]
           },
           {
            "color": "gray",
            "range": [
             3.1153846153846154,
             4.153846153846154
            ]
           }
          ],
          "threshold": {
           "line": {
            "color": "red",
            "width": 2
           },
           "thickness": 0.75,
           "value": 5.1923076923076925
          }
         },
         "mode": "gauge",
         "title": {
          "text": "Alaska"
         },
         "type": "indicator",
         "value": 7.3
        },
        {
         "domain": {
          "x": [
           0.25,
           1
          ],
          "y": [
           0.7600000000000003,
           0.7700000000000004
          ]
         },
         "gauge": {
          "axis": {
           "range": [
            null,
            10
           ]
          },
          "shape": "bullet",
          "steps": [
           {
            "color": "lightgray",
            "range": [
             0,
             3.1153846153846154
            ]
           },
           {
            "color": "gray",
            "range": [
             3.1153846153846154,
             4.153846153846154
            ]
           }
          ],
          "threshold": {
           "line": {
            "color": "red",
            "width": 2
           },
           "thickness": 0.75,
           "value": 5.1923076923076925
          }
         },
         "mode": "gauge",
         "title": {
          "text": "Colorado"
         },
         "type": "indicator",
         "value": 6.9
        },
        {
         "domain": {
          "x": [
           0.25,
           1
          ],
          "y": [
           0.7790000000000004,
           0.7890000000000004
          ]
         },
         "gauge": {
          "axis": {
           "range": [
            null,
            10
           ]
          },
          "shape": "bullet",
          "steps": [
           {
            "color": "lightgray",
            "range": [
             0,
             3.1153846153846154
            ]
           },
           {
            "color": "gray",
            "range": [
             3.1153846153846154,
             4.153846153846154
            ]
           }
          ],
          "threshold": {
           "line": {
            "color": "red",
            "width": 2
           },
           "thickness": 0.75,
           "value": 5.1923076923076925
          }
         },
         "mode": "gauge",
         "title": {
          "text": "New Mexico"
         },
         "type": "indicator",
         "value": 6.1
        },
        {
         "domain": {
          "x": [
           0.25,
           1
          ],
          "y": [
           0.7980000000000004,
           0.8080000000000004
          ]
         },
         "gauge": {
          "axis": {
           "range": [
            null,
            10
           ]
          },
          "shape": "bullet",
          "steps": [
           {
            "color": "lightgray",
            "range": [
             0,
             3.1153846153846154
            ]
           },
           {
            "color": "gray",
            "range": [
             3.1153846153846154,
             4.153846153846154
            ]
           }
          ],
          "threshold": {
           "line": {
            "color": "red",
            "width": 2
           },
           "thickness": 0.75,
           "value": 5.1923076923076925
          }
         },
         "mode": "gauge",
         "title": {
          "text": "California"
         },
         "type": "indicator",
         "value": 5.5
        },
        {
         "domain": {
          "x": [
           0.25,
           1
          ],
          "y": [
           0.8170000000000004,
           0.8270000000000004
          ]
         },
         "gauge": {
          "axis": {
           "range": [
            null,
            10
           ]
          },
          "shape": "bullet",
          "steps": [
           {
            "color": "lightgray",
            "range": [
             0,
             3.1153846153846154
            ]
           },
           {
            "color": "gray",
            "range": [
             3.1153846153846154,
             4.153846153846154
            ]
           }
          ],
          "threshold": {
           "line": {
            "color": "red",
            "width": 2
           },
           "thickness": 0.75,
           "value": 5.1923076923076925
          }
         },
         "mode": "gauge",
         "title": {
          "text": "Hawaii"
         },
         "type": "indicator",
         "value": 5.4
        },
        {
         "domain": {
          "x": [
           0.25,
           1
          ],
          "y": [
           0.8360000000000004,
           0.8460000000000004
          ]
         },
         "gauge": {
          "axis": {
           "range": [
            null,
            10
           ]
          },
          "shape": "bullet",
          "steps": [
           {
            "color": "lightgray",
            "range": [
             0,
             3.1153846153846154
            ]
           },
           {
            "color": "gray",
            "range": [
             3.1153846153846154,
             4.153846153846154
            ]
           }
          ],
          "threshold": {
           "line": {
            "color": "red",
            "width": 2
           },
           "thickness": 0.75,
           "value": 5.1923076923076925
          }
         },
         "mode": "gauge",
         "title": {
          "text": "Washington"
         },
         "type": "indicator",
         "value": 5.1
        },
        {
         "domain": {
          "x": [
           0.25,
           1
          ],
          "y": [
           0.8550000000000004,
           0.8650000000000004
          ]
         },
         "gauge": {
          "axis": {
           "range": [
            null,
            10
           ]
          },
          "shape": "bullet",
          "steps": [
           {
            "color": "lightgray",
            "range": [
             0,
             3.1153846153846154
            ]
           },
           {
            "color": "gray",
            "range": [
             3.1153846153846154,
             4.153846153846154
            ]
           }
          ],
          "threshold": {
           "line": {
            "color": "red",
            "width": 2
           },
           "thickness": 0.75,
           "value": 5.1923076923076925
          }
         },
         "mode": "gauge",
         "title": {
          "text": "Wyoming"
         },
         "type": "indicator",
         "value": 5.1
        },
        {
         "domain": {
          "x": [
           0.25,
           1
          ],
          "y": [
           0.8740000000000004,
           0.8840000000000005
          ]
         },
         "gauge": {
          "axis": {
           "range": [
            null,
            10
           ]
          },
          "shape": "bullet",
          "steps": [
           {
            "color": "lightgray",
            "range": [
             0,
             3.1153846153846154
            ]
           },
           {
            "color": "gray",
            "range": [
             3.1153846153846154,
             4.153846153846154
            ]
           }
          ],
          "threshold": {
           "line": {
            "color": "red",
            "width": 2
           },
           "thickness": 0.75,
           "value": 5.1923076923076925
          }
         },
         "mode": "gauge",
         "title": {
          "text": "Oregon"
         },
         "type": "indicator",
         "value": 4.6
        },
        {
         "domain": {
          "x": [
           0.25,
           1
          ],
          "y": [
           0.8930000000000005,
           0.9030000000000005
          ]
         },
         "gauge": {
          "axis": {
           "range": [
            null,
            10
           ]
          },
          "shape": "bullet",
          "steps": [
           {
            "color": "lightgray",
            "range": [
             0,
             3.1153846153846154
            ]
           },
           {
            "color": "gray",
            "range": [
             3.1153846153846154,
             4.153846153846154
            ]
           }
          ],
          "threshold": {
           "line": {
            "color": "red",
            "width": 2
           },
           "thickness": 0.75,
           "value": 5.1923076923076925
          }
         },
         "mode": "gauge",
         "title": {
          "text": "Nevada"
         },
         "type": "indicator",
         "value": 4.5
        },
        {
         "domain": {
          "x": [
           0.25,
           1
          ],
          "y": [
           0.9120000000000005,
           0.9220000000000005
          ]
         },
         "gauge": {
          "axis": {
           "range": [
            null,
            10
           ]
          },
          "shape": "bullet",
          "steps": [
           {
            "color": "lightgray",
            "range": [
             0,
             3.1153846153846154
            ]
           },
           {
            "color": "gray",
            "range": [
             3.1153846153846154,
             4.153846153846154
            ]
           }
          ],
          "threshold": {
           "line": {
            "color": "red",
            "width": 2
           },
           "thickness": 0.75,
           "value": 5.1923076923076925
          }
         },
         "mode": "gauge",
         "title": {
          "text": "Montana"
         },
         "type": "indicator",
         "value": 3.7
        },
        {
         "domain": {
          "x": [
           0.25,
           1
          ],
          "y": [
           0.9310000000000005,
           0.9410000000000005
          ]
         },
         "gauge": {
          "axis": {
           "range": [
            null,
            10
           ]
          },
          "shape": "bullet",
          "steps": [
           {
            "color": "lightgray",
            "range": [
             0,
             3.1153846153846154
            ]
           },
           {
            "color": "gray",
            "range": [
             3.1153846153846154,
             4.153846153846154
            ]
           }
          ],
          "threshold": {
           "line": {
            "color": "red",
            "width": 2
           },
           "thickness": 0.75,
           "value": 5.1923076923076925
          }
         },
         "mode": "gauge",
         "title": {
          "text": "Utah"
         },
         "type": "indicator",
         "value": 3.1
        },
        {
         "domain": {
          "x": [
           0.25,
           1
          ],
          "y": [
           0.9500000000000005,
           0.9600000000000005
          ]
         },
         "gauge": {
          "axis": {
           "range": [
            null,
            10
           ]
          },
          "shape": "bullet",
          "steps": [
           {
            "color": "lightgray",
            "range": [
             0,
             3.1153846153846154
            ]
           },
           {
            "color": "gray",
            "range": [
             3.1153846153846154,
             4.153846153846154
            ]
           }
          ],
          "threshold": {
           "line": {
            "color": "red",
            "width": 2
           },
           "thickness": 0.75,
           "value": 5.1923076923076925
          }
         },
         "mode": "gauge",
         "title": {
          "text": "Idaho"
         },
         "type": "indicator",
         "value": 2.6
        }
       ],
       "layout": {
        "autosize": false,
        "height": 3000,
        "margin": {
         "b": 0,
         "l": 150,
         "t": 0
        },
        "template": {
         "data": {
          "bar": [
           {
            "error_x": {
             "color": "#2a3f5f"
            },
            "error_y": {
             "color": "#2a3f5f"
            },
            "marker": {
             "line": {
              "color": "#E5ECF6",
              "width": 0.5
             },
             "pattern": {
              "fillmode": "overlay",
              "size": 10,
              "solidity": 0.2
             }
            },
            "type": "bar"
           }
          ],
          "barpolar": [
           {
            "marker": {
             "line": {
              "color": "#E5ECF6",
              "width": 0.5
             },
             "pattern": {
              "fillmode": "overlay",
              "size": 10,
              "solidity": 0.2
             }
            },
            "type": "barpolar"
           }
          ],
          "carpet": [
           {
            "aaxis": {
             "endlinecolor": "#2a3f5f",
             "gridcolor": "white",
             "linecolor": "white",
             "minorgridcolor": "white",
             "startlinecolor": "#2a3f5f"
            },
            "baxis": {
             "endlinecolor": "#2a3f5f",
             "gridcolor": "white",
             "linecolor": "white",
             "minorgridcolor": "white",
             "startlinecolor": "#2a3f5f"
            },
            "type": "carpet"
           }
          ],
          "choropleth": [
           {
            "colorbar": {
             "outlinewidth": 0,
             "ticks": ""
            },
            "type": "choropleth"
           }
          ],
          "contour": [
           {
            "colorbar": {
             "outlinewidth": 0,
             "ticks": ""
            },
            "colorscale": [
             [
              0,
              "#0d0887"
             ],
             [
              0.1111111111111111,
              "#46039f"
             ],
             [
              0.2222222222222222,
              "#7201a8"
             ],
             [
              0.3333333333333333,
              "#9c179e"
             ],
             [
              0.4444444444444444,
              "#bd3786"
             ],
             [
              0.5555555555555556,
              "#d8576b"
             ],
             [
              0.6666666666666666,
              "#ed7953"
             ],
             [
              0.7777777777777778,
              "#fb9f3a"
             ],
             [
              0.8888888888888888,
              "#fdca26"
             ],
             [
              1,
              "#f0f921"
             ]
            ],
            "type": "contour"
           }
          ],
          "contourcarpet": [
           {
            "colorbar": {
             "outlinewidth": 0,
             "ticks": ""
            },
            "type": "contourcarpet"
           }
          ],
          "heatmap": [
           {
            "colorbar": {
             "outlinewidth": 0,
             "ticks": ""
            },
            "colorscale": [
             [
              0,
              "#0d0887"
             ],
             [
              0.1111111111111111,
              "#46039f"
             ],
             [
              0.2222222222222222,
              "#7201a8"
             ],
             [
              0.3333333333333333,
              "#9c179e"
             ],
             [
              0.4444444444444444,
              "#bd3786"
             ],
             [
              0.5555555555555556,
              "#d8576b"
             ],
             [
              0.6666666666666666,
              "#ed7953"
             ],
             [
              0.7777777777777778,
              "#fb9f3a"
             ],
             [
              0.8888888888888888,
              "#fdca26"
             ],
             [
              1,
              "#f0f921"
             ]
            ],
            "type": "heatmap"
           }
          ],
          "heatmapgl": [
           {
            "colorbar": {
             "outlinewidth": 0,
             "ticks": ""
            },
            "colorscale": [
             [
              0,
              "#0d0887"
             ],
             [
              0.1111111111111111,
              "#46039f"
             ],
             [
              0.2222222222222222,
              "#7201a8"
             ],
             [
              0.3333333333333333,
              "#9c179e"
             ],
             [
              0.4444444444444444,
              "#bd3786"
             ],
             [
              0.5555555555555556,
              "#d8576b"
             ],
             [
              0.6666666666666666,
              "#ed7953"
             ],
             [
              0.7777777777777778,
              "#fb9f3a"
             ],
             [
              0.8888888888888888,
              "#fdca26"
             ],
             [
              1,
              "#f0f921"
             ]
            ],
            "type": "heatmapgl"
           }
          ],
          "histogram": [
           {
            "marker": {
             "pattern": {
              "fillmode": "overlay",
              "size": 10,
              "solidity": 0.2
             }
            },
            "type": "histogram"
           }
          ],
          "histogram2d": [
           {
            "colorbar": {
             "outlinewidth": 0,
             "ticks": ""
            },
            "colorscale": [
             [
              0,
              "#0d0887"
             ],
             [
              0.1111111111111111,
              "#46039f"
             ],
             [
              0.2222222222222222,
              "#7201a8"
             ],
             [
              0.3333333333333333,
              "#9c179e"
             ],
             [
              0.4444444444444444,
              "#bd3786"
             ],
             [
              0.5555555555555556,
              "#d8576b"
             ],
             [
              0.6666666666666666,
              "#ed7953"
             ],
             [
              0.7777777777777778,
              "#fb9f3a"
             ],
             [
              0.8888888888888888,
              "#fdca26"
             ],
             [
              1,
              "#f0f921"
             ]
            ],
            "type": "histogram2d"
           }
          ],
          "histogram2dcontour": [
           {
            "colorbar": {
             "outlinewidth": 0,
             "ticks": ""
            },
            "colorscale": [
             [
              0,
              "#0d0887"
             ],
             [
              0.1111111111111111,
              "#46039f"
             ],
             [
              0.2222222222222222,
              "#7201a8"
             ],
             [
              0.3333333333333333,
              "#9c179e"
             ],
             [
              0.4444444444444444,
              "#bd3786"
             ],
             [
              0.5555555555555556,
              "#d8576b"
             ],
             [
              0.6666666666666666,
              "#ed7953"
             ],
             [
              0.7777777777777778,
              "#fb9f3a"
             ],
             [
              0.8888888888888888,
              "#fdca26"
             ],
             [
              1,
              "#f0f921"
             ]
            ],
            "type": "histogram2dcontour"
           }
          ],
          "mesh3d": [
           {
            "colorbar": {
             "outlinewidth": 0,
             "ticks": ""
            },
            "type": "mesh3d"
           }
          ],
          "parcoords": [
           {
            "line": {
             "colorbar": {
              "outlinewidth": 0,
              "ticks": ""
             }
            },
            "type": "parcoords"
           }
          ],
          "pie": [
           {
            "automargin": true,
            "type": "pie"
           }
          ],
          "scatter": [
           {
            "fillpattern": {
             "fillmode": "overlay",
             "size": 10,
             "solidity": 0.2
            },
            "type": "scatter"
           }
          ],
          "scatter3d": [
           {
            "line": {
             "colorbar": {
              "outlinewidth": 0,
              "ticks": ""
             }
            },
            "marker": {
             "colorbar": {
              "outlinewidth": 0,
              "ticks": ""
             }
            },
            "type": "scatter3d"
           }
          ],
          "scattercarpet": [
           {
            "marker": {
             "colorbar": {
              "outlinewidth": 0,
              "ticks": ""
             }
            },
            "type": "scattercarpet"
           }
          ],
          "scattergeo": [
           {
            "marker": {
             "colorbar": {
              "outlinewidth": 0,
              "ticks": ""
             }
            },
            "type": "scattergeo"
           }
          ],
          "scattergl": [
           {
            "marker": {
             "colorbar": {
              "outlinewidth": 0,
              "ticks": ""
             }
            },
            "type": "scattergl"
           }
          ],
          "scattermapbox": [
           {
            "marker": {
             "colorbar": {
              "outlinewidth": 0,
              "ticks": ""
             }
            },
            "type": "scattermapbox"
           }
          ],
          "scatterpolar": [
           {
            "marker": {
             "colorbar": {
              "outlinewidth": 0,
              "ticks": ""
             }
            },
            "type": "scatterpolar"
           }
          ],
          "scatterpolargl": [
           {
            "marker": {
             "colorbar": {
              "outlinewidth": 0,
              "ticks": ""
             }
            },
            "type": "scatterpolargl"
           }
          ],
          "scatterternary": [
           {
            "marker": {
             "colorbar": {
              "outlinewidth": 0,
              "ticks": ""
             }
            },
            "type": "scatterternary"
           }
          ],
          "surface": [
           {
            "colorbar": {
             "outlinewidth": 0,
             "ticks": ""
            },
            "colorscale": [
             [
              0,
              "#0d0887"
             ],
             [
              0.1111111111111111,
              "#46039f"
             ],
             [
              0.2222222222222222,
              "#7201a8"
             ],
             [
              0.3333333333333333,
              "#9c179e"
             ],
             [
              0.4444444444444444,
              "#bd3786"
             ],
             [
              0.5555555555555556,
              "#d8576b"
             ],
             [
              0.6666666666666666,
              "#ed7953"
             ],
             [
              0.7777777777777778,
              "#fb9f3a"
             ],
             [
              0.8888888888888888,
              "#fdca26"
             ],
             [
              1,
              "#f0f921"
             ]
            ],
            "type": "surface"
           }
          ],
          "table": [
           {
            "cells": {
             "fill": {
              "color": "#EBF0F8"
             },
             "line": {
              "color": "white"
             }
            },
            "header": {
             "fill": {
              "color": "#C8D4E3"
             },
             "line": {
              "color": "white"
             }
            },
            "type": "table"
           }
          ]
         },
         "layout": {
          "annotationdefaults": {
           "arrowcolor": "#2a3f5f",
           "arrowhead": 0,
           "arrowwidth": 1
          },
          "autotypenumbers": "strict",
          "coloraxis": {
           "colorbar": {
            "outlinewidth": 0,
            "ticks": ""
           }
          },
          "colorscale": {
           "diverging": [
            [
             0,
             "#8e0152"
            ],
            [
             0.1,
             "#c51b7d"
            ],
            [
             0.2,
             "#de77ae"
            ],
            [
             0.3,
             "#f1b6da"
            ],
            [
             0.4,
             "#fde0ef"
            ],
            [
             0.5,
             "#f7f7f7"
            ],
            [
             0.6,
             "#e6f5d0"
            ],
            [
             0.7,
             "#b8e186"
            ],
            [
             0.8,
             "#7fbc41"
            ],
            [
             0.9,
             "#4d9221"
            ],
            [
             1,
             "#276419"
            ]
           ],
           "sequential": [
            [
             0,
             "#0d0887"
            ],
            [
             0.1111111111111111,
             "#46039f"
            ],
            [
             0.2222222222222222,
             "#7201a8"
            ],
            [
             0.3333333333333333,
             "#9c179e"
            ],
            [
             0.4444444444444444,
             "#bd3786"
            ],
            [
             0.5555555555555556,
             "#d8576b"
            ],
            [
             0.6666666666666666,
             "#ed7953"
            ],
            [
             0.7777777777777778,
             "#fb9f3a"
            ],
            [
             0.8888888888888888,
             "#fdca26"
            ],
            [
             1,
             "#f0f921"
            ]
           ],
           "sequentialminus": [
            [
             0,
             "#0d0887"
            ],
            [
             0.1111111111111111,
             "#46039f"
            ],
            [
             0.2222222222222222,
             "#7201a8"
            ],
            [
             0.3333333333333333,
             "#9c179e"
            ],
            [
             0.4444444444444444,
             "#bd3786"
            ],
            [
             0.5555555555555556,
             "#d8576b"
            ],
            [
             0.6666666666666666,
             "#ed7953"
            ],
            [
             0.7777777777777778,
             "#fb9f3a"
            ],
            [
             0.8888888888888888,
             "#fdca26"
            ],
            [
             1,
             "#f0f921"
            ]
           ]
          },
          "colorway": [
           "#636efa",
           "#EF553B",
           "#00cc96",
           "#ab63fa",
           "#FFA15A",
           "#19d3f3",
           "#FF6692",
           "#B6E880",
           "#FF97FF",
           "#FECB52"
          ],
          "font": {
           "color": "#2a3f5f"
          },
          "geo": {
           "bgcolor": "white",
           "lakecolor": "white",
           "landcolor": "#E5ECF6",
           "showlakes": true,
           "showland": true,
           "subunitcolor": "white"
          },
          "hoverlabel": {
           "align": "left"
          },
          "hovermode": "closest",
          "mapbox": {
           "style": "light"
          },
          "paper_bgcolor": "white",
          "plot_bgcolor": "#E5ECF6",
          "polar": {
           "angularaxis": {
            "gridcolor": "white",
            "linecolor": "white",
            "ticks": ""
           },
           "bgcolor": "#E5ECF6",
           "radialaxis": {
            "gridcolor": "white",
            "linecolor": "white",
            "ticks": ""
           }
          },
          "scene": {
           "xaxis": {
            "backgroundcolor": "#E5ECF6",
            "gridcolor": "white",
            "gridwidth": 2,
            "linecolor": "white",
            "showbackground": true,
            "ticks": "",
            "zerolinecolor": "white"
           },
           "yaxis": {
            "backgroundcolor": "#E5ECF6",
            "gridcolor": "white",
            "gridwidth": 2,
            "linecolor": "white",
            "showbackground": true,
            "ticks": "",
            "zerolinecolor": "white"
           },
           "zaxis": {
            "backgroundcolor": "#E5ECF6",
            "gridcolor": "white",
            "gridwidth": 2,
            "linecolor": "white",
            "showbackground": true,
            "ticks": "",
            "zerolinecolor": "white"
           }
          },
          "shapedefaults": {
           "line": {
            "color": "#2a3f5f"
           }
          },
          "ternary": {
           "aaxis": {
            "gridcolor": "white",
            "linecolor": "white",
            "ticks": ""
           },
           "baxis": {
            "gridcolor": "white",
            "linecolor": "white",
            "ticks": ""
           },
           "bgcolor": "#E5ECF6",
           "caxis": {
            "gridcolor": "white",
            "linecolor": "white",
            "ticks": ""
           }
          },
          "title": {
           "x": 0.05
          },
          "xaxis": {
           "automargin": true,
           "gridcolor": "white",
           "linecolor": "white",
           "ticks": "",
           "title": {
            "standoff": 15
           },
           "zerolinecolor": "white",
           "zerolinewidth": 2
          },
          "yaxis": {
           "automargin": true,
           "gridcolor": "white",
           "linecolor": "white",
           "ticks": "",
           "title": {
            "standoff": 15
           },
           "zerolinecolor": "white",
           "zerolinewidth": 2
          }
         }
        },
        "width": 800
       }
      },
      "image/png": "[encoded data removed]",
      "text/html": [
       "<div>                            <div id=\"515fcdac-9491-4c87-b046-8af3b73b405a\" class=\"plotly-graph-div\" style=\"height:3000px; width:800px;\"></div>            <script type=\"text/javascript\">                require([\"plotly\"], function(Plotly) {                    window.PLOTLYENV=window.PLOTLYENV || {};                                    if (document.getElementById(\"515fcdac-9491-4c87-b046-8af3b73b405a\")) {                    Plotly.newPlot(                        \"515fcdac-9491-4c87-b046-8af3b73b405a\",                        [{\"domain\":{\"x\":[0.25,1],\"y\":[0,0.01]},\"gauge\":{\"axis\":{\"range\":[null,10]},\"shape\":\"bullet\",\"steps\":[{\"color\":\"lightgray\",\"range\":[0,2.075]},{\"color\":\"gray\",\"range\":[2.075,2.7666666666666675]}],\"threshold\":{\"line\":{\"color\":\"red\",\"width\":2},\"thickness\":0.75,\"value\":3.458333333333334}},\"mode\":\"gauge\",\"title\":{\"text\":\"Michigan\"},\"value\":7.4,\"type\":\"indicator\"},{\"domain\":{\"x\":[0.25,1],\"y\":[0.019,0.028999999999999998]},\"gauge\":{\"axis\":{\"range\":[null,10]},\"shape\":\"bullet\",\"steps\":[{\"color\":\"lightgray\",\"range\":[0,2.075]},{\"color\":\"gray\",\"range\":[2.075,2.7666666666666675]}],\"threshold\":{\"line\":{\"color\":\"red\",\"width\":2},\"thickness\":0.75,\"value\":3.458333333333334}},\"mode\":\"gauge\",\"title\":{\"text\":\"Ohio\"},\"value\":4.5,\"type\":\"indicator\"},{\"domain\":{\"x\":[0.25,1],\"y\":[0.038,0.048]},\"gauge\":{\"axis\":{\"range\":[null,10]},\"shape\":\"bullet\",\"steps\":[{\"color\":\"lightgray\",\"range\":[0,2.075]},{\"color\":\"gray\",\"range\":[2.075,2.7666666666666675]}],\"threshold\":{\"line\":{\"color\":\"red\",\"width\":2},\"thickness\":0.75,\"value\":3.458333333333334}},\"mode\":\"gauge\",\"title\":{\"text\":\"Illinois\"},\"value\":4.0,\"type\":\"indicator\"},{\"domain\":{\"x\":[0.25,1],\"y\":[0.056999999999999995,0.06699999999999999]},\"gauge\":{\"axis\":{\"range\":[null,10]},\"shape\":\"bullet\",\"steps\":[{\"color\":\"lightgray\",\"range\":[0,2.075]},{\"color\":\"gray\",\"range\":[2.075,2.7666666666666675]}],\"threshold\":{\"line\":{\"color\":\"red\",\"width\":2},\"thickness\":0.75,\"value\":3.458333333333334}},\"mode\":\"gauge\",\"title\":{\"text\":\"South Dakota\"},\"value\":3.9,\"type\":\"indicator\"},{\"domain\":{\"x\":[0.25,1],\"y\":[0.076,0.086]},\"gauge\":{\"axis\":{\"range\":[null,10]},\"shape\":\"bullet\",\"steps\":[{\"color\":\"lightgray\",\"range\":[0,2.075]},{\"color\":\"gray\",\"range\":[2.075,2.7666666666666675]}],\"threshold\":{\"line\":{\"color\":\"red\",\"width\":2},\"thickness\":0.75,\"value\":3.458333333333334}},\"mode\":\"gauge\",\"title\":{\"text\":\"Missouri\"},\"value\":3.7,\"type\":\"indicator\"},{\"domain\":{\"x\":[0.25,1],\"y\":[0.095,0.105]},\"gauge\":{\"axis\":{\"range\":[null,10]},\"shape\":\"bullet\",\"steps\":[{\"color\":\"lightgray\",\"range\":[0,2.075]},{\"color\":\"gray\",\"range\":[2.075,2.7666666666666675]}],\"threshold\":{\"line\":{\"color\":\"red\",\"width\":2},\"thickness\":0.75,\"value\":3.458333333333334}},\"mode\":\"gauge\",\"title\":{\"text\":\"Minnesota\"},\"value\":3.0,\"type\":\"indicator\"},{\"domain\":{\"x\":[0.25,1],\"y\":[0.114,0.124]},\"gauge\":{\"axis\":{\"range\":[null,10]},\"shape\":\"bullet\",\"steps\":[{\"color\":\"lightgray\",\"range\":[0,2.075]},{\"color\":\"gray\",\"range\":[2.075,2.7666666666666675]}],\"threshold\":{\"line\":{\"color\":\"red\",\"width\":2},\"thickness\":0.75,\"value\":3.458333333333334}},\"mode\":\"gauge\",\"title\":{\"text\":\"Nebraska\"},\"value\":2.8,\"type\":\"indicator\"},{\"domain\":{\"x\":[0.25,1],\"y\":[0.133,0.14300000000000002]},\"gauge\":{\"axis\":{\"range\":[null,10]},\"shape\":\"bullet\",\"steps\":[{\"color\":\"lightgray\",\"range\":[0,2.075]},{\"color\":\"gray\",\"range\":[2.075,2.7666666666666675]}],\"threshold\":{\"line\":{\"color\":\"red\",\"width\":2},\"thickness\":0.75,\"value\":3.458333333333334}},\"mode\":\"gauge\",\"title\":{\"text\":\"Indiana\"},\"value\":2.7,\"type\":\"indicator\"},{\"domain\":{\"x\":[0.25,1],\"y\":[0.152,0.162]},\"gauge\":{\"axis\":{\"range\":[null,10]},\"shape\":\"bullet\",\"steps\":[{\"color\":\"lightgray\",\"range\":[0,2.075]},{\"color\":\"gray\",\"range\":[2.075,2.7666666666666675]}],\"threshold\":{\"line\":{\"color\":\"red\",\"width\":2},\"thickness\":0.75,\"value\":3.458333333333334}},\"mode\":\"gauge\",\"title\":{\"text\":\"Kansas\"},\"value\":2.7,\"type\":\"indicator\"},{\"domain\":{\"x\":[0.25,1],\"y\":[0.17099999999999999,0.181]},\"gauge\":{\"axis\":{\"range\":[null,10]},\"shape\":\"bullet\",\"steps\":[{\"color\":\"lightgray\",\"range\":[0,2.075]},{\"color\":\"gray\",\"range\":[2.075,2.7666666666666675]}],\"threshold\":{\"line\":{\"color\":\"red\",\"width\":2},\"thickness\":0.75,\"value\":3.458333333333334}},\"mode\":\"gauge\",\"title\":{\"text\":\"Iowa\"},\"value\":2.3,\"type\":\"indicator\"},{\"domain\":{\"x\":[0.25,1],\"y\":[0.18999999999999997,0.19999999999999998]},\"gauge\":{\"axis\":{\"range\":[null,10]},\"shape\":\"bullet\",\"steps\":[{\"color\":\"lightgray\",\"range\":[0,2.075]},{\"color\":\"gray\",\"range\":[2.075,2.7666666666666675]}],\"threshold\":{\"line\":{\"color\":\"red\",\"width\":2},\"thickness\":0.75,\"value\":3.458333333333334}},\"mode\":\"gauge\",\"title\":{\"text\":\"North Dakota\"},\"value\":2.3,\"type\":\"indicator\"},{\"domain\":{\"x\":[0.25,1],\"y\":[0.20899999999999996,0.21899999999999997]},\"gauge\":{\"axis\":{\"range\":[null,10]},\"shape\":\"bullet\",\"steps\":[{\"color\":\"lightgray\",\"range\":[0,2.075]},{\"color\":\"gray\",\"range\":[2.075,2.7666666666666675]}],\"threshold\":{\"line\":{\"color\":\"red\",\"width\":2},\"thickness\":0.75,\"value\":3.458333333333334}},\"mode\":\"gauge\",\"title\":{\"text\":\"Wisconsin\"},\"value\":2.2,\"type\":\"indicator\"},{\"domain\":{\"x\":[0.25,1],\"y\":[0.22799999999999995,0.23799999999999996]},\"gauge\":{\"axis\":{\"range\":[null,10]},\"shape\":\"bullet\",\"steps\":[{\"color\":\"lightgray\",\"range\":[0,1.7]},{\"color\":\"gray\",\"range\":[1.7,2.266666666666667]}],\"threshold\":{\"line\":{\"color\":\"red\",\"width\":2},\"thickness\":0.75,\"value\":2.8333333333333335}},\"mode\":\"gauge\",\"title\":{\"text\":\"Rhode Island\"},\"value\":5.8,\"type\":\"indicator\"},{\"domain\":{\"x\":[0.25,1],\"y\":[0.24699999999999994,0.25699999999999995]},\"gauge\":{\"axis\":{\"range\":[null,10]},\"shape\":\"bullet\",\"steps\":[{\"color\":\"lightgray\",\"range\":[0,1.7]},{\"color\":\"gray\",\"range\":[1.7,2.266666666666667]}],\"threshold\":{\"line\":{\"color\":\"red\",\"width\":2},\"thickness\":0.75,\"value\":2.8333333333333335}},\"mode\":\"gauge\",\"title\":{\"text\":\"Maine\"},\"value\":5.3,\"type\":\"indicator\"},{\"domain\":{\"x\":[0.25,1],\"y\":[0.26599999999999996,0.27599999999999997]},\"gauge\":{\"axis\":{\"range\":[null,10]},\"shape\":\"bullet\",\"steps\":[{\"color\":\"lightgray\",\"range\":[0,1.7]},{\"color\":\"gray\",\"range\":[1.7,2.266666666666667]}],\"threshold\":{\"line\":{\"color\":\"red\",\"width\":2},\"thickness\":0.75,\"value\":2.8333333333333335}},\"mode\":\"gauge\",\"title\":{\"text\":\"New York\"},\"value\":5.3,\"type\":\"indicator\"},{\"domain\":{\"x\":[0.25,1],\"y\":[0.285,0.295]},\"gauge\":{\"axis\":{\"range\":[null,10]},\"shape\":\"bullet\",\"steps\":[{\"color\":\"lightgray\",\"range\":[0,1.7]},{\"color\":\"gray\",\"range\":[1.7,2.266666666666667]}],\"threshold\":{\"line\":{\"color\":\"red\",\"width\":2},\"thickness\":0.75,\"value\":2.8333333333333335}},\"mode\":\"gauge\",\"title\":{\"text\":\"Massachusetts\"},\"value\":3.8,\"type\":\"indicator\"},{\"domain\":{\"x\":[0.25,1],\"y\":[0.304,0.314]},\"gauge\":{\"axis\":{\"range\":[null,10]},\"shape\":\"bullet\",\"steps\":[{\"color\":\"lightgray\",\"range\":[0,1.7]},{\"color\":\"gray\",\"range\":[1.7,2.266666666666667]}],\"threshold\":{\"line\":{\"color\":\"red\",\"width\":2},\"thickness\":0.75,\"value\":2.8333333333333335}},\"mode\":\"gauge\",\"title\":{\"text\":\"New Hampshire\"},\"value\":3.2,\"type\":\"indicator\"},{\"domain\":{\"x\":[0.25,1],\"y\":[0.323,0.333]},\"gauge\":{\"axis\":{\"range\":[null,10]},\"shape\":\"bullet\",\"steps\":[{\"color\":\"lightgray\",\"range\":[0,1.7]},{\"color\":\"gray\",\"range\":[1.7,2.266666666666667]}],\"threshold\":{\"line\":{\"color\":\"red\",\"width\":2},\"thickness\":0.75,\"value\":2.8333333333333335}},\"mode\":\"gauge\",\"title\":{\"text\":\"Connecticut\"},\"value\":2.1,\"type\":\"indicator\"},{\"domain\":{\"x\":[0.25,1],\"y\":[0.342,0.35200000000000004]},\"gauge\":{\"axis\":{\"range\":[null,10]},\"shape\":\"bullet\",\"steps\":[{\"color\":\"lightgray\",\"range\":[0,1.7]},{\"color\":\"gray\",\"range\":[1.7,2.266666666666667]}],\"threshold\":{\"line\":{\"color\":\"red\",\"width\":2},\"thickness\":0.75,\"value\":2.8333333333333335}},\"mode\":\"gauge\",\"title\":{\"text\":\"New Jersey\"},\"value\":2.0,\"type\":\"indicator\"},{\"domain\":{\"x\":[0.25,1],\"y\":[0.36100000000000004,0.37100000000000005]},\"gauge\":{\"axis\":{\"range\":[null,10]},\"shape\":\"bullet\",\"steps\":[{\"color\":\"lightgray\",\"range\":[0,1.7]},{\"color\":\"gray\",\"range\":[1.7,2.266666666666667]}],\"threshold\":{\"line\":{\"color\":\"red\",\"width\":2},\"thickness\":0.75,\"value\":2.8333333333333335}},\"mode\":\"gauge\",\"title\":{\"text\":\"Pennsylvania\"},\"value\":-1.0,\"type\":\"indicator\"},{\"domain\":{\"x\":[0.25,1],\"y\":[0.38000000000000006,0.39000000000000007]},\"gauge\":{\"axis\":{\"range\":[null,10]},\"shape\":\"bullet\",\"steps\":[{\"color\":\"lightgray\",\"range\":[0,1.7]},{\"color\":\"gray\",\"range\":[1.7,2.266666666666667]}],\"threshold\":{\"line\":{\"color\":\"red\",\"width\":2},\"thickness\":0.75,\"value\":2.8333333333333335}},\"mode\":\"gauge\",\"title\":{\"text\":\"Vermont\"},\"value\":-1.0,\"type\":\"indicator\"},{\"domain\":{\"x\":[0.25,1],\"y\":[0.3990000000000001,0.4090000000000001]},\"gauge\":{\"axis\":{\"range\":[null,10]},\"shape\":\"bullet\",\"steps\":[{\"color\":\"lightgray\",\"range\":[0,2.583529411764705]},{\"color\":\"gray\",\"range\":[2.583529411764705,3.4447058823529404]}],\"threshold\":{\"line\":{\"color\":\"red\",\"width\":2},\"thickness\":0.75,\"value\":4.305882352941175}},\"mode\":\"gauge\",\"title\":{\"text\":\"Louisiana\"},\"value\":7.4,\"type\":\"indicator\"},{\"domain\":{\"x\":[0.25,1],\"y\":[0.4180000000000001,0.4280000000000001]},\"gauge\":{\"axis\":{\"range\":[null,10]},\"shape\":\"bullet\",\"steps\":[{\"color\":\"lightgray\",\"range\":[0,2.583529411764705]},{\"color\":\"gray\",\"range\":[2.583529411764705,3.4447058823529404]}],\"threshold\":{\"line\":{\"color\":\"red\",\"width\":2},\"thickness\":0.75,\"value\":4.305882352941175}},\"mode\":\"gauge\",\"title\":{\"text\":\"District of Columbia\"},\"value\":7.1,\"type\":\"indicator\"},{\"domain\":{\"x\":[0.25,1],\"y\":[0.4370000000000001,0.4470000000000001]},\"gauge\":{\"axis\":{\"range\":[null,10]},\"shape\":\"bullet\",\"steps\":[{\"color\":\"lightgray\",\"range\":[0,2.583529411764705]},{\"color\":\"gray\",\"range\":[2.583529411764705,3.4447058823529404]}],\"threshold\":{\"line\":{\"color\":\"red\",\"width\":2},\"thickness\":0.75,\"value\":4.305882352941175}},\"mode\":\"gauge\",\"title\":{\"text\":\"North Carolina\"},\"value\":5.7,\"type\":\"indicator\"},{\"domain\":{\"x\":[0.25,1],\"y\":[0.4560000000000001,0.46600000000000014]},\"gauge\":{\"axis\":{\"range\":[null,10]},\"shape\":\"bullet\",\"steps\":[{\"color\":\"lightgray\",\"range\":[0,2.583529411764705]},{\"color\":\"gray\",\"range\":[2.583529411764705,3.4447058823529404]}],\"threshold\":{\"line\":{\"color\":\"red\",\"width\":2},\"thickness\":0.75,\"value\":4.305882352941175}},\"mode\":\"gauge\",\"title\":{\"text\":\"Delaware\"},\"value\":5.5,\"type\":\"indicator\"},{\"domain\":{\"x\":[0.25,1],\"y\":[0.47500000000000014,0.48500000000000015]},\"gauge\":{\"axis\":{\"range\":[null,10]},\"shape\":\"bullet\",\"steps\":[{\"color\":\"lightgray\",\"range\":[0,2.583529411764705]},{\"color\":\"gray\",\"range\":[2.583529411764705,3.4447058823529404]}],\"threshold\":{\"line\":{\"color\":\"red\",\"width\":2},\"thickness\":0.75,\"value\":4.305882352941175}},\"mode\":\"gauge\",\"title\":{\"text\":\"Arkansas\"},\"value\":4.6,\"type\":\"indicator\"},{\"domain\":{\"x\":[0.25,1],\"y\":[0.49400000000000016,0.5040000000000001]},\"gauge\":{\"axis\":{\"range\":[null,10]},\"shape\":\"bullet\",\"steps\":[{\"color\":\"lightgray\",\"range\":[0,2.583529411764705]},{\"color\":\"gray\",\"range\":[2.583529411764705,3.4447058823529404]}],\"threshold\":{\"line\":{\"color\":\"red\",\"width\":2},\"thickness\":0.75,\"value\":4.305882352941175}},\"mode\":\"gauge\",\"title\":{\"text\":\"Georgia\"},\"value\":4.6,\"type\":\"indicator\"},{\"domain\":{\"x\":[0.25,1],\"y\":[0.5130000000000001,0.5230000000000001]},\"gauge\":{\"axis\":{\"range\":[null,10]},\"shape\":\"bullet\",\"steps\":[{\"color\":\"lightgray\",\"range\":[0,2.583529411764705]},{\"color\":\"gray\",\"range\":[2.583529411764705,3.4447058823529404]}],\"threshold\":{\"line\":{\"color\":\"red\",\"width\":2},\"thickness\":0.75,\"value\":4.305882352941175}},\"mode\":\"gauge\",\"title\":{\"text\":\"Mississippi\"},\"value\":4.3,\"type\":\"indicator\"},{\"domain\":{\"x\":[0.25,1],\"y\":[0.5320000000000001,0.5420000000000001]},\"gauge\":{\"axis\":{\"range\":[null,10]},\"shape\":\"bullet\",\"steps\":[{\"color\":\"lightgray\",\"range\":[0,2.583529411764705]},{\"color\":\"gray\",\"range\":[2.583529411764705,3.4447058823529404]}],\"threshold\":{\"line\":{\"color\":\"red\",\"width\":2},\"thickness\":0.75,\"value\":4.305882352941175}},\"mode\":\"gauge\",\"title\":{\"text\":\"Texas\"},\"value\":4.0,\"type\":\"indicator\"},{\"domain\":{\"x\":[0.25,1],\"y\":[0.5510000000000002,0.5610000000000002]},\"gauge\":{\"axis\":{\"range\":[null,10]},\"shape\":\"bullet\",\"steps\":[{\"color\":\"lightgray\",\"range\":[0,2.583529411764705]},{\"color\":\"gray\",\"range\":[2.583529411764705,3.4447058823529404]}],\"threshold\":{\"line\":{\"color\":\"red\",\"width\":2},\"thickness\":0.75,\"value\":4.305882352941175}},\"mode\":\"gauge\",\"title\":{\"text\":\"West Virginia\"},\"value\":4.0,\"type\":\"indicator\"},{\"domain\":{\"x\":[0.25,1],\"y\":[0.5700000000000002,0.5800000000000002]},\"gauge\":{\"axis\":{\"range\":[null,10]},\"shape\":\"bullet\",\"steps\":[{\"color\":\"lightgray\",\"range\":[0,2.583529411764705]},{\"color\":\"gray\",\"range\":[2.583529411764705,3.4447058823529404]}],\"threshold\":{\"line\":{\"color\":\"red\",\"width\":2},\"thickness\":0.75,\"value\":4.305882352941175}},\"mode\":\"gauge\",\"title\":{\"text\":\"South Carolina\"},\"value\":3.9,\"type\":\"indicator\"},{\"domain\":{\"x\":[0.25,1],\"y\":[0.5890000000000002,0.5990000000000002]},\"gauge\":{\"axis\":{\"range\":[null,10]},\"shape\":\"bullet\",\"steps\":[{\"color\":\"lightgray\",\"range\":[0,2.583529411764705]},{\"color\":\"gray\",\"range\":[2.583529411764705,3.4447058823529404]}],\"threshold\":{\"line\":{\"color\":\"red\",\"width\":2},\"thickness\":0.75,\"value\":4.305882352941175}},\"mode\":\"gauge\",\"title\":{\"text\":\"Florida\"},\"value\":3.8,\"type\":\"indicator\"},{\"domain\":{\"x\":[0.25,1],\"y\":[0.6080000000000002,0.6180000000000002]},\"gauge\":{\"axis\":{\"range\":[null,10]},\"shape\":\"bullet\",\"steps\":[{\"color\":\"lightgray\",\"range\":[0,2.583529411764705]},{\"color\":\"gray\",\"range\":[2.583529411764705,3.4447058823529404]}],\"threshold\":{\"line\":{\"color\":\"red\",\"width\":2},\"thickness\":0.75,\"value\":4.305882352941175}},\"mode\":\"gauge\",\"title\":{\"text\":\"Maryland\"},\"value\":3.8,\"type\":\"indicator\"},{\"domain\":{\"x\":[0.25,1],\"y\":[0.6270000000000002,0.6370000000000002]},\"gauge\":{\"axis\":{\"range\":[null,10]},\"shape\":\"bullet\",\"steps\":[{\"color\":\"lightgray\",\"range\":[0,2.583529411764705]},{\"color\":\"gray\",\"range\":[2.583529411764705,3.4447058823529404]}],\"threshold\":{\"line\":{\"color\":\"red\",\"width\":2},\"thickness\":0.75,\"value\":4.305882352941175}},\"mode\":\"gauge\",\"title\":{\"text\":\"Oklahoma\"},\"value\":3.5,\"type\":\"indicator\"},{\"domain\":{\"x\":[0.25,1],\"y\":[0.6460000000000002,0.6560000000000002]},\"gauge\":{\"axis\":{\"range\":[null,10]},\"shape\":\"bullet\",\"steps\":[{\"color\":\"lightgray\",\"range\":[0,2.583529411764705]},{\"color\":\"gray\",\"range\":[2.583529411764705,3.4447058823529404]}],\"threshold\":{\"line\":{\"color\":\"red\",\"width\":2},\"thickness\":0.75,\"value\":4.305882352941175}},\"mode\":\"gauge\",\"title\":{\"text\":\"Tennessee\"},\"value\":3.1,\"type\":\"indicator\"},{\"domain\":{\"x\":[0.25,1],\"y\":[0.6650000000000003,0.6750000000000003]},\"gauge\":{\"axis\":{\"range\":[null,10]},\"shape\":\"bullet\",\"steps\":[{\"color\":\"lightgray\",\"range\":[0,2.583529411764705]},{\"color\":\"gray\",\"range\":[2.583529411764705,3.4447058823529404]}],\"threshold\":{\"line\":{\"color\":\"red\",\"width\":2},\"thickness\":0.75,\"value\":4.305882352941175}},\"mode\":\"gauge\",\"title\":{\"text\":\"Kentucky\"},\"value\":3.0,\"type\":\"indicator\"},{\"domain\":{\"x\":[0.25,1],\"y\":[0.6840000000000003,0.6940000000000003]},\"gauge\":{\"axis\":{\"range\":[null,10]},\"shape\":\"bullet\",\"steps\":[{\"color\":\"lightgray\",\"range\":[0,2.583529411764705]},{\"color\":\"gray\",\"range\":[2.583529411764705,3.4447058823529404]}],\"threshold\":{\"line\":{\"color\":\"red\",\"width\":2},\"thickness\":0.75,\"value\":4.305882352941175}},\"mode\":\"gauge\",\"title\":{\"text\":\"Virginia\"},\"value\":2.6,\"type\":\"indicator\"},{\"domain\":{\"x\":[0.25,1],\"y\":[0.7030000000000003,0.7130000000000003]},\"gauge\":{\"axis\":{\"range\":[null,10]},\"shape\":\"bullet\",\"steps\":[{\"color\":\"lightgray\",\"range\":[0,2.583529411764705]},{\"color\":\"gray\",\"range\":[2.583529411764705,3.4447058823529404]}],\"threshold\":{\"line\":{\"color\":\"red\",\"width\":2},\"thickness\":0.75,\"value\":4.305882352941175}},\"mode\":\"gauge\",\"title\":{\"text\":\"Alabama\"},\"value\":2.3,\"type\":\"indicator\"},{\"domain\":{\"x\":[0.25,1],\"y\":[0.7220000000000003,0.7320000000000003]},\"gauge\":{\"axis\":{\"range\":[null,10]},\"shape\":\"bullet\",\"steps\":[{\"color\":\"lightgray\",\"range\":[0,3.1153846153846154]},{\"color\":\"gray\",\"range\":[3.1153846153846154,4.153846153846154]}],\"threshold\":{\"line\":{\"color\":\"red\",\"width\":2},\"thickness\":0.75,\"value\":5.1923076923076925}},\"mode\":\"gauge\",\"title\":{\"text\":\"Arizona\"},\"value\":7.6,\"type\":\"indicator\"},{\"domain\":{\"x\":[0.25,1],\"y\":[0.7410000000000003,0.7510000000000003]},\"gauge\":{\"axis\":{\"range\":[null,10]},\"shape\":\"bullet\",\"steps\":[{\"color\":\"lightgray\",\"range\":[0,3.1153846153846154]},{\"color\":\"gray\",\"range\":[3.1153846153846154,4.153846153846154]}],\"threshold\":{\"line\":{\"color\":\"red\",\"width\":2},\"thickness\":0.75,\"value\":5.1923076923076925}},\"mode\":\"gauge\",\"title\":{\"text\":\"Alaska\"},\"value\":7.3,\"type\":\"indicator\"},{\"domain\":{\"x\":[0.25,1],\"y\":[0.7600000000000003,0.7700000000000004]},\"gauge\":{\"axis\":{\"range\":[null,10]},\"shape\":\"bullet\",\"steps\":[{\"color\":\"lightgray\",\"range\":[0,3.1153846153846154]},{\"color\":\"gray\",\"range\":[3.1153846153846154,4.153846153846154]}],\"threshold\":{\"line\":{\"color\":\"red\",\"width\":2},\"thickness\":0.75,\"value\":5.1923076923076925}},\"mode\":\"gauge\",\"title\":{\"text\":\"Colorado\"},\"value\":6.9,\"type\":\"indicator\"},{\"domain\":{\"x\":[0.25,1],\"y\":[0.7790000000000004,0.7890000000000004]},\"gauge\":{\"axis\":{\"range\":[null,10]},\"shape\":\"bullet\",\"steps\":[{\"color\":\"lightgray\",\"range\":[0,3.1153846153846154]},{\"color\":\"gray\",\"range\":[3.1153846153846154,4.153846153846154]}],\"threshold\":{\"line\":{\"color\":\"red\",\"width\":2},\"thickness\":0.75,\"value\":5.1923076923076925}},\"mode\":\"gauge\",\"title\":{\"text\":\"New Mexico\"},\"value\":6.1,\"type\":\"indicator\"},{\"domain\":{\"x\":[0.25,1],\"y\":[0.7980000000000004,0.8080000000000004]},\"gauge\":{\"axis\":{\"range\":[null,10]},\"shape\":\"bullet\",\"steps\":[{\"color\":\"lightgray\",\"range\":[0,3.1153846153846154]},{\"color\":\"gray\",\"range\":[3.1153846153846154,4.153846153846154]}],\"threshold\":{\"line\":{\"color\":\"red\",\"width\":2},\"thickness\":0.75,\"value\":5.1923076923076925}},\"mode\":\"gauge\",\"title\":{\"text\":\"California\"},\"value\":5.5,\"type\":\"indicator\"},{\"domain\":{\"x\":[0.25,1],\"y\":[0.8170000000000004,0.8270000000000004]},\"gauge\":{\"axis\":{\"range\":[null,10]},\"shape\":\"bullet\",\"steps\":[{\"color\":\"lightgray\",\"range\":[0,3.1153846153846154]},{\"color\":\"gray\",\"range\":[3.1153846153846154,4.153846153846154]}],\"threshold\":{\"line\":{\"color\":\"red\",\"width\":2},\"thickness\":0.75,\"value\":5.1923076923076925}},\"mode\":\"gauge\",\"title\":{\"text\":\"Hawaii\"},\"value\":5.4,\"type\":\"indicator\"},{\"domain\":{\"x\":[0.25,1],\"y\":[0.8360000000000004,0.8460000000000004]},\"gauge\":{\"axis\":{\"range\":[null,10]},\"shape\":\"bullet\",\"steps\":[{\"color\":\"lightgray\",\"range\":[0,3.1153846153846154]},{\"color\":\"gray\",\"range\":[3.1153846153846154,4.153846153846154]}],\"threshold\":{\"line\":{\"color\":\"red\",\"width\":2},\"thickness\":0.75,\"value\":5.1923076923076925}},\"mode\":\"gauge\",\"title\":{\"text\":\"Washington\"},\"value\":5.1,\"type\":\"indicator\"},{\"domain\":{\"x\":[0.25,1],\"y\":[0.8550000000000004,0.8650000000000004]},\"gauge\":{\"axis\":{\"range\":[null,10]},\"shape\":\"bullet\",\"steps\":[{\"color\":\"lightgray\",\"range\":[0,3.1153846153846154]},{\"color\":\"gray\",\"range\":[3.1153846153846154,4.153846153846154]}],\"threshold\":{\"line\":{\"color\":\"red\",\"width\":2},\"thickness\":0.75,\"value\":5.1923076923076925}},\"mode\":\"gauge\",\"title\":{\"text\":\"Wyoming\"},\"value\":5.1,\"type\":\"indicator\"},{\"domain\":{\"x\":[0.25,1],\"y\":[0.8740000000000004,0.8840000000000005]},\"gauge\":{\"axis\":{\"range\":[null,10]},\"shape\":\"bullet\",\"steps\":[{\"color\":\"lightgray\",\"range\":[0,3.1153846153846154]},{\"color\":\"gray\",\"range\":[3.1153846153846154,4.153846153846154]}],\"threshold\":{\"line\":{\"color\":\"red\",\"width\":2},\"thickness\":0.75,\"value\":5.1923076923076925}},\"mode\":\"gauge\",\"title\":{\"text\":\"Oregon\"},\"value\":4.6,\"type\":\"indicator\"},{\"domain\":{\"x\":[0.25,1],\"y\":[0.8930000000000005,0.9030000000000005]},\"gauge\":{\"axis\":{\"range\":[null,10]},\"shape\":\"bullet\",\"steps\":[{\"color\":\"lightgray\",\"range\":[0,3.1153846153846154]},{\"color\":\"gray\",\"range\":[3.1153846153846154,4.153846153846154]}],\"threshold\":{\"line\":{\"color\":\"red\",\"width\":2},\"thickness\":0.75,\"value\":5.1923076923076925}},\"mode\":\"gauge\",\"title\":{\"text\":\"Nevada\"},\"value\":4.5,\"type\":\"indicator\"},{\"domain\":{\"x\":[0.25,1],\"y\":[0.9120000000000005,0.9220000000000005]},\"gauge\":{\"axis\":{\"range\":[null,10]},\"shape\":\"bullet\",\"steps\":[{\"color\":\"lightgray\",\"range\":[0,3.1153846153846154]},{\"color\":\"gray\",\"range\":[3.1153846153846154,4.153846153846154]}],\"threshold\":{\"line\":{\"color\":\"red\",\"width\":2},\"thickness\":0.75,\"value\":5.1923076923076925}},\"mode\":\"gauge\",\"title\":{\"text\":\"Montana\"},\"value\":3.7,\"type\":\"indicator\"},{\"domain\":{\"x\":[0.25,1],\"y\":[0.9310000000000005,0.9410000000000005]},\"gauge\":{\"axis\":{\"range\":[null,10]},\"shape\":\"bullet\",\"steps\":[{\"color\":\"lightgray\",\"range\":[0,3.1153846153846154]},{\"color\":\"gray\",\"range\":[3.1153846153846154,4.153846153846154]}],\"threshold\":{\"line\":{\"color\":\"red\",\"width\":2},\"thickness\":0.75,\"value\":5.1923076923076925}},\"mode\":\"gauge\",\"title\":{\"text\":\"Utah\"},\"value\":3.1,\"type\":\"indicator\"},{\"domain\":{\"x\":[0.25,1],\"y\":[0.9500000000000005,0.9600000000000005]},\"gauge\":{\"axis\":{\"range\":[null,10]},\"shape\":\"bullet\",\"steps\":[{\"color\":\"lightgray\",\"range\":[0,3.1153846153846154]},{\"color\":\"gray\",\"range\":[3.1153846153846154,4.153846153846154]}],\"threshold\":{\"line\":{\"color\":\"red\",\"width\":2},\"thickness\":0.75,\"value\":5.1923076923076925}},\"mode\":\"gauge\",\"title\":{\"text\":\"Idaho\"},\"value\":2.6,\"type\":\"indicator\"}],                        {\"template\":{\"data\":{\"histogram2dcontour\":[{\"type\":\"histogram2dcontour\",\"colorbar\":{\"outlinewidth\":0,\"ticks\":\"\"},\"colorscale\":[[0.0,\"#0d0887\"],[0.1111111111111111,\"#46039f\"],[0.2222222222222222,\"#7201a8\"],[0.3333333333333333,\"#9c179e\"],[0.4444444444444444,\"#bd3786\"],[0.5555555555555556,\"#d8576b\"],[0.6666666666666666,\"#ed7953\"],[0.7777777777777778,\"#fb9f3a\"],[0.8888888888888888,\"#fdca26\"],[1.0,\"#f0f921\"]]}],\"choropleth\":[{\"type\":\"choropleth\",\"colorbar\":{\"outlinewidth\":0,\"ticks\":\"\"}}],\"histogram2d\":[{\"type\":\"histogram2d\",\"colorbar\":{\"outlinewidth\":0,\"ticks\":\"\"},\"colorscale\":[[0.0,\"#0d0887\"],[0.1111111111111111,\"#46039f\"],[0.2222222222222222,\"#7201a8\"],[0.3333333333333333,\"#9c179e\"],[0.4444444444444444,\"#bd3786\"],[0.5555555555555556,\"#d8576b\"],[0.6666666666666666,\"#ed7953\"],[0.7777777777777778,\"#fb9f3a\"],[0.8888888888888888,\"#fdca26\"],[1.0,\"#f0f921\"]]}],\"heatmap\":[{\"type\":\"heatmap\",\"colorbar\":{\"outlinewidth\":0,\"ticks\":\"\"},\"colorscale\":[[0.0,\"#0d0887\"],[0.1111111111111111,\"#46039f\"],[0.2222222222222222,\"#7201a8\"],[0.3333333333333333,\"#9c179e\"],[0.4444444444444444,\"#bd3786\"],[0.5555555555555556,\"#d8576b\"],[0.6666666666666666,\"#ed7953\"],[0.7777777777777778,\"#fb9f3a\"],[0.8888888888888888,\"#fdca26\"],[1.0,\"#f0f921\"]]}],\"heatmapgl\":[{\"type\":\"heatmapgl\",\"colorbar\":{\"outlinewidth\":0,\"ticks\":\"\"},\"colorscale\":[[0.0,\"#0d0887\"],[0.1111111111111111,\"#46039f\"],[0.2222222222222222,\"#7201a8\"],[0.3333333333333333,\"#9c179e\"],[0.4444444444444444,\"#bd3786\"],[0.5555555555555556,\"#d8576b\"],[0.6666666666666666,\"#ed7953\"],[0.7777777777777778,\"#fb9f3a\"],[0.8888888888888888,\"#fdca26\"],[1.0,\"#f0f921\"]]}],\"contourcarpet\":[{\"type\":\"contourcarpet\",\"colorbar\":{\"outlinewidth\":0,\"ticks\":\"\"}}],\"contour\":[{\"type\":\"contour\",\"colorbar\":{\"outlinewidth\":0,\"ticks\":\"\"},\"colorscale\":[[0.0,\"#0d0887\"],[0.1111111111111111,\"#46039f\"],[0.2222222222222222,\"#7201a8\"],[0.3333333333333333,\"#9c179e\"],[0.4444444444444444,\"#bd3786\"],[0.5555555555555556,\"#d8576b\"],[0.6666666666666666,\"#ed7953\"],[0.7777777777777778,\"#fb9f3a\"],[0.8888888888888888,\"#fdca26\"],[1.0,\"#f0f921\"]]}],\"surface\":[{\"type\":\"surface\",\"colorbar\":{\"outlinewidth\":0,\"ticks\":\"\"},\"colorscale\":[[0.0,\"#0d0887\"],[0.1111111111111111,\"#46039f\"],[0.2222222222222222,\"#7201a8\"],[0.3333333333333333,\"#9c179e\"],[0.4444444444444444,\"#bd3786\"],[0.5555555555555556,\"#d8576b\"],[0.6666666666666666,\"#ed7953\"],[0.7777777777777778,\"#fb9f3a\"],[0.8888888888888888,\"#fdca26\"],[1.0,\"#f0f921\"]]}],\"mesh3d\":[{\"type\":\"mesh3d\",\"colorbar\":{\"outlinewidth\":0,\"ticks\":\"\"}}],\"scatter\":[{\"fillpattern\":{\"fillmode\":\"overlay\",\"size\":10,\"solidity\":0.2},\"type\":\"scatter\"}],\"parcoords\":[{\"type\":\"parcoords\",\"line\":{\"colorbar\":{\"outlinewidth\":0,\"ticks\":\"\"}}}],\"scatterpolargl\":[{\"type\":\"scatterpolargl\",\"marker\":{\"colorbar\":{\"outlinewidth\":0,\"ticks\":\"\"}}}],\"bar\":[{\"error_x\":{\"color\":\"#2a3f5f\"},\"error_y\":{\"color\":\"#2a3f5f\"},\"marker\":{\"line\":{\"color\":\"#E5ECF6\",\"width\":0.5},\"pattern\":{\"fillmode\":\"overlay\",\"size\":10,\"solidity\":0.2}},\"type\":\"bar\"}],\"scattergeo\":[{\"type\":\"scattergeo\",\"marker\":{\"colorbar\":{\"outlinewidth\":0,\"ticks\":\"\"}}}],\"scatterpolar\":[{\"type\":\"scatterpolar\",\"marker\":{\"colorbar\":{\"outlinewidth\":0,\"ticks\":\"\"}}}],\"histogram\":[{\"marker\":{\"pattern\":{\"fillmode\":\"overlay\",\"size\":10,\"solidity\":0.2}},\"type\":\"histogram\"}],\"scattergl\":[{\"type\":\"scattergl\",\"marker\":{\"colorbar\":{\"outlinewidth\":0,\"ticks\":\"\"}}}],\"scatter3d\":[{\"type\":\"scatter3d\",\"line\":{\"colorbar\":{\"outlinewidth\":0,\"ticks\":\"\"}},\"marker\":{\"colorbar\":{\"outlinewidth\":0,\"ticks\":\"\"}}}],\"scattermapbox\":[{\"type\":\"scattermapbox\",\"marker\":{\"colorbar\":{\"outlinewidth\":0,\"ticks\":\"\"}}}],\"scatterternary\":[{\"type\":\"scatterternary\",\"marker\":{\"colorbar\":{\"outlinewidth\":0,\"ticks\":\"\"}}}],\"scattercarpet\":[{\"type\":\"scattercarpet\",\"marker\":{\"colorbar\":{\"outlinewidth\":0,\"ticks\":\"\"}}}],\"carpet\":[{\"aaxis\":{\"endlinecolor\":\"#2a3f5f\",\"gridcolor\":\"white\",\"linecolor\":\"white\",\"minorgridcolor\":\"white\",\"startlinecolor\":\"#2a3f5f\"},\"baxis\":{\"endlinecolor\":\"#2a3f5f\",\"gridcolor\":\"white\",\"linecolor\":\"white\",\"minorgridcolor\":\"white\",\"startlinecolor\":\"#2a3f5f\"},\"type\":\"carpet\"}],\"table\":[{\"cells\":{\"fill\":{\"color\":\"#EBF0F8\"},\"line\":{\"color\":\"white\"}},\"header\":{\"fill\":{\"color\":\"#C8D4E3\"},\"line\":{\"color\":\"white\"}},\"type\":\"table\"}],\"barpolar\":[{\"marker\":{\"line\":{\"color\":\"#E5ECF6\",\"width\":0.5},\"pattern\":{\"fillmode\":\"overlay\",\"size\":10,\"solidity\":0.2}},\"type\":\"barpolar\"}],\"pie\":[{\"automargin\":true,\"type\":\"pie\"}]},\"layout\":{\"autotypenumbers\":\"strict\",\"colorway\":[\"#636efa\",\"#EF553B\",\"#00cc96\",\"#ab63fa\",\"#FFA15A\",\"#19d3f3\",\"#FF6692\",\"#B6E880\",\"#FF97FF\",\"#FECB52\"],\"font\":{\"color\":\"#2a3f5f\"},\"hovermode\":\"closest\",\"hoverlabel\":{\"align\":\"left\"},\"paper_bgcolor\":\"white\",\"plot_bgcolor\":\"#E5ECF6\",\"polar\":{\"bgcolor\":\"#E5ECF6\",\"angularaxis\":{\"gridcolor\":\"white\",\"linecolor\":\"white\",\"ticks\":\"\"},\"radialaxis\":{\"gridcolor\":\"white\",\"linecolor\":\"white\",\"ticks\":\"\"}},\"ternary\":{\"bgcolor\":\"#E5ECF6\",\"aaxis\":{\"gridcolor\":\"white\",\"linecolor\":\"white\",\"ticks\":\"\"},\"baxis\":{\"gridcolor\":\"white\",\"linecolor\":\"white\",\"ticks\":\"\"},\"caxis\":{\"gridcolor\":\"white\",\"linecolor\":\"white\",\"ticks\":\"\"}},\"coloraxis\":{\"colorbar\":{\"outlinewidth\":0,\"ticks\":\"\"}},\"colorscale\":{\"sequential\":[[0.0,\"#0d0887\"],[0.1111111111111111,\"#46039f\"],[0.2222222222222222,\"#7201a8\"],[0.3333333333333333,\"#9c179e\"],[0.4444444444444444,\"#bd3786\"],[0.5555555555555556,\"#d8576b\"],[0.6666666666666666,\"#ed7953\"],[0.7777777777777778,\"#fb9f3a\"],[0.8888888888888888,\"#fdca26\"],[1.0,\"#f0f921\"]],\"sequentialminus\":[[0.0,\"#0d0887\"],[0.1111111111111111,\"#46039f\"],[0.2222222222222222,\"#7201a8\"],[0.3333333333333333,\"#9c179e\"],[0.4444444444444444,\"#bd3786\"],[0.5555555555555556,\"#d8576b\"],[0.6666666666666666,\"#ed7953\"],[0.7777777777777778,\"#fb9f3a\"],[0.8888888888888888,\"#fdca26\"],[1.0,\"#f0f921\"]],\"diverging\":[[0,\"#8e0152\"],[0.1,\"#c51b7d\"],[0.2,\"#de77ae\"],[0.3,\"#f1b6da\"],[0.4,\"#fde0ef\"],[0.5,\"#f7f7f7\"],[0.6,\"#e6f5d0\"],[0.7,\"#b8e186\"],[0.8,\"#7fbc41\"],[0.9,\"#4d9221\"],[1,\"#276419\"]]},\"xaxis\":{\"gridcolor\":\"white\",\"linecolor\":\"white\",\"ticks\":\"\",\"title\":{\"standoff\":15},\"zerolinecolor\":\"white\",\"automargin\":true,\"zerolinewidth\":2},\"yaxis\":{\"gridcolor\":\"white\",\"linecolor\":\"white\",\"ticks\":\"\",\"title\":{\"standoff\":15},\"zerolinecolor\":\"white\",\"automargin\":true,\"zerolinewidth\":2},\"scene\":{\"xaxis\":{\"backgroundcolor\":\"#E5ECF6\",\"gridcolor\":\"white\",\"linecolor\":\"white\",\"showbackground\":true,\"ticks\":\"\",\"zerolinecolor\":\"white\",\"gridwidth\":2},\"yaxis\":{\"backgroundcolor\":\"#E5ECF6\",\"gridcolor\":\"white\",\"linecolor\":\"white\",\"showbackground\":true,\"ticks\":\"\",\"zerolinecolor\":\"white\",\"gridwidth\":2},\"zaxis\":{\"backgroundcolor\":\"#E5ECF6\",\"gridcolor\":\"white\",\"linecolor\":\"white\",\"showbackground\":true,\"ticks\":\"\",\"zerolinecolor\":\"white\",\"gridwidth\":2}},\"shapedefaults\":{\"line\":{\"color\":\"#2a3f5f\"}},\"annotationdefaults\":{\"arrowcolor\":\"#2a3f5f\",\"arrowhead\":0,\"arrowwidth\":1},\"geo\":{\"bgcolor\":\"white\",\"landcolor\":\"#E5ECF6\",\"subunitcolor\":\"white\",\"showland\":true,\"showlakes\":true,\"lakecolor\":\"white\"},\"title\":{\"x\":0.05},\"mapbox\":{\"style\":\"light\"}}},\"margin\":{\"t\":0,\"b\":0,\"l\":150},\"autosize\":false,\"height\":3000,\"width\":800},                        {\"responsive\": true}                    ).then(function(){\n",
       "                            \n",
       "var gd = document.getElementById('515fcdac-9491-4c87-b046-8af3b73b405a');\n",
       "var x = new MutationObserver(function (mutations, observer) {{\n",
       "        var display = window.getComputedStyle(gd).display;\n",
       "        if (!display || display === 'none') {{\n",
       "            console.log([gd, 'removed!']);\n",
       "            Plotly.purge(gd);\n",
       "            observer.disconnect();\n",
       "        }}\n",
       "}});\n",
       "\n",
       "// Listen for the removal of the full notebook cells\n",
       "var notebookContainer = gd.closest('#notebook-container');\n",
       "if (notebookContainer) {{\n",
       "    x.observe(notebookContainer, {childList: true});\n",
       "}}\n",
       "\n",
       "// Listen for the clearing of the current output cell\n",
       "var outputEl = gd.closest('.output');\n",
       "if (outputEl) {{\n",
       "    x.observe(outputEl, {childList: true});\n",
       "}}\n",
       "\n",
       "                        })                };                });            </script>        </div>"
      ]
     },
     "metadata": {},
     "output_type": "display_data"
    }
   ],
   "source": [
    "import plotly.graph_objects as go\n",
    "import pandas as pd\n",
    "\n",
    "# Import data to dataframe\n",
    "df = pd.read_csv(r'C:\\Users\\jeric\\OneDrive/Documents/classFiles/DSC640/Exercises/Week10_11/education.csv', index_col=False)\n",
    "\n",
    "# Adding Regional Average\n",
    "df['newname'] = df[\"Region\"]+\"-\"+df[\"state\"]\n",
    "df['Region_avg'] = df.groupby([\"Region\"])['dropout_rate'].transform('mean')\n",
    "df['Region_avg_diff'] = df['Region_avg']-df['dropout_rate']\n",
    "df = df.sort_values(by=[\"Region\",'Region_avg_diff'], ascending=True)\n",
    "\n",
    "a = 0\n",
    "\n",
    "\n",
    "fig = go.Figure()\n",
    "for index, row in df.iterrows():\n",
    "    fig.add_trace(go.Indicator(\n",
    "        mode = \"gauge\",value =row[6],\n",
    "        domain = {'x':[0.25,1], 'y':[a, a+0.010]},\n",
    "        title = {'text' : row[0]},\n",
    "        gauge = {\n",
    "            'shape': \"bullet\",\n",
    "            'axis': {'range': [None, 10]},\n",
    "\n",
    "            'threshold': {\n",
    "                'line': {'color': \"red\", 'width': 2},\n",
    "                'thickness': 0.75,\n",
    "                'value': row[9]},\n",
    "            'steps': [\n",
    "                {'range': [0, row[9]*0.6], 'color': \"lightgray\"},\n",
    "                {'range': [row[9]*0.6,row[9]*0.8], 'color': \"gray\"}]}))\n",
    "    a= a+0.019\n",
    "fig.update_layout(autosize=False,height = 3000, width=800, margin={'t':0, 'b':0, 'l':150})\n",
    "fig.show()"
   ]
  }
 ],
 "metadata": {
  "kernelspec": {
   "display_name": "Python 3",
   "language": "python",
   "name": "python3"
  },
  "language_info": {
   "codemirror_mode": {
    "name": "ipython",
    "version": 3
   },
   "file_extension": ".py",
   "mimetype": "text/x-python",
   "name": "python",
   "nbconvert_exporter": "python",
   "pygments_lexer": "ipython3",
   "version": "3.8.8"
  }
 },
 "nbformat": 4,
 "nbformat_minor": 5
}
